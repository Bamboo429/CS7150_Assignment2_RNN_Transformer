{
 "cells": [
  {
   "cell_type": "markdown",
   "id": "2a6e9e8b",
   "metadata": {
    "id": "2a6e9e8b"
   },
   "source": [
    "# Programming assignment 2: Recurrent Neural Networks and Transformer"
   ]
  },
  {
   "cell_type": "markdown",
   "id": "7f7493e6",
   "metadata": {
    "id": "7f7493e6"
   },
   "source": [
    "## Overview"
   ]
  },
  {
   "cell_type": "markdown",
   "id": "193d314b",
   "metadata": {
    "id": "193d314b"
   },
   "source": [
    "<font size='4'>In this assignment you will practice putting together implementations of Recurrent Neural Networks, Transformer (encoder and decoder), and their applications to text classification, image classification, and text generation (machine translation). Especially for Transformer, you will get good understandings about foundations for very state-of-the-art models that you likely to see in tech news articles nowadays, like GPT-3, CLIP, or VisionTransformer.</font>"
   ]
  },
  {
   "cell_type": "markdown",
   "id": "e938397f",
   "metadata": {
    "id": "e938397f"
   },
   "source": [
    "## Submission format"
   ]
  },
  {
   "cell_type": "markdown",
   "id": "e960af27",
   "metadata": {
    "id": "e960af27"
   },
   "source": [
    "- <font size='4'>`<your_nu_username>_rnn_transformer.ipynb` with your implementations and output.</font>"
   ]
  },
  {
   "cell_type": "markdown",
   "id": "3460ded9",
   "metadata": {
    "id": "3460ded9"
   },
   "source": [
    "## Note"
   ]
  },
  {
   "cell_type": "markdown",
   "id": "549c3563",
   "metadata": {
    "id": "549c3563"
   },
   "source": [
    "<font size='4'>  \n",
    "- You do not need to tune hyper parameters in the regular tasks.\n",
    "\n",
    "- You do not install any additional packages inside the Colab environment. Do not forget to choose to use GPU in the `Runtime\\Change runtime type` tab.    \n",
    "\n",
    "- **You are not allowed to consult any online resources except for the links provided in this assignment.**\n",
    "\n",
    "- **Violation of this policy will lead to failure of your course and even more severe consequences.**\n",
    "\n",
    "- Attend office hours and make post on Piazza if you have any questions.\n",
    "\n",
    "- You have sufficient time to work on this assignment. Please refrain from asking for extensions.\n",
    "\n",
    "- The thrid programming assignment is optional but you may earn extra credits out it. Plan wisely as its deadline may approach the end of this semester, where there are a lot of deadlines around.\n",
    "</font>\n"
   ]
  },
  {
   "cell_type": "markdown",
   "id": "c34a5320",
   "metadata": {
    "id": "c34a5320"
   },
   "source": [
    "## Setup"
   ]
  },
  {
   "cell_type": "code",
   "execution_count": 1,
   "id": "6717b8a2-e9d2-4aea-a6ea-a02decc307fa",
   "metadata": {},
   "outputs": [
    {
     "name": "stdout",
     "output_type": "stream",
     "text": [
      "3.9.16\n"
     ]
    }
   ],
   "source": [
    "from platform import python_version\n",
    "\n",
    "print(python_version())"
   ]
  },
  {
   "cell_type": "code",
   "execution_count": 3,
   "id": "3e59bfb8",
   "metadata": {
    "colab": {
     "base_uri": "https://localhost:8080/"
    },
    "id": "3e59bfb8",
    "outputId": "319e493e-d6a9-49e9-b30d-cceb37ea3ca6"
   },
   "outputs": [
    {
     "name": "stdout",
     "output_type": "stream",
     "text": [
      "Defaulting to user installation because normal site-packages is not writeable\n",
      "Collecting torch==1.13.1\n",
      "  Downloading torch-1.13.1-cp39-cp39-manylinux1_x86_64.whl (887.4 MB)\n",
      "\u001b[K     |████████████████████████████████| 887.4 MB 7.9 kB/s eta 0:00:011  |                                | 327 kB 3.4 MB/s eta 0:04:20     |                                | 1.2 MB 3.4 MB/s eta 0:04:19     |                                | 2.2 MB 3.4 MB/s eta 0:04:19     |                                | 2.8 MB 3.4 MB/s eta 0:04:19     |▏                               | 3.1 MB 3.4 MB/s eta 0:04:19     |▏                               | 3.7 MB 3.4 MB/s eta 0:04:19     |▏                               | 4.4 MB 3.4 MB/s eta 0:04:19     |▏                               | 4.8 MB 3.4 MB/s eta 0:04:18     |▍                               | 12.1 MB 5.9 MB/s eta 0:02:30     |▌                               | 12.6 MB 5.9 MB/s eta 0:02:30     |▌                               | 13.1 MB 5.9 MB/s eta 0:02:30     |█                               | 26.3 MB 13.6 MB/s eta 0:01:04     |█                               | 28.6 MB 13.6 MB/s eta 0:01:04     |█▎                              | 36.3 MB 14.1 MB/s eta 0:01:01     |█▌                              | 41.4 MB 14.1 MB/s eta 0:01:00     |█▌                              | 42.2 MB 14.1 MB/s eta 0:01:00     |█▊                              | 46.7 MB 2.9 MB/s eta 0:04:52     |██▎                             | 64.2 MB 6.2 MB/s eta 0:02:13     |██▍                             | 65.5 MB 6.2 MB/s eta 0:02:13     |██▌                             | 70.5 MB 6.2 MB/s eta 0:02:12     |███▏                            | 88.5 MB 5.9 MB/s eta 0:02:16     |███▌                            | 97.6 MB 5.9 MB/s eta 0:02:14     |███▋                            | 99.5 MB 5.9 MB/s eta 0:02:14     |███▊                            | 102.3 MB 14.0 MB/s eta 0:00:56     |███▉                            | 106.7 MB 60 kB/s eta 3:34:04     |████                            | 108.5 MB 60 kB/s eta 3:33:34     |████▏                           | 115.7 MB 14.8 MB/s eta 0:00:53     |████▏                           | 116.4 MB 14.8 MB/s eta 0:00:53     |████▏                           | 116.7 MB 14.8 MB/s eta 0:00:53     |████▎                           | 117.3 MB 14.8 MB/s eta 0:00:53     |████▎                           | 118.0 MB 14.8 MB/s eta 0:00:53     |████▎                           | 118.4 MB 14.8 MB/s eta 0:00:52     |████▍                           | 120.4 MB 6.2 MB/s eta 0:02:05     |████▍                           | 123.0 MB 6.2 MB/s eta 0:02:04     |████▌                           | 123.9 MB 6.2 MB/s eta 0:02:04     |████▌                           | 124.2 MB 6.2 MB/s eta 0:02:04     |████▋                           | 128.8 MB 6.2 MB/s eta 0:02:03     |████▊                           | 130.6 MB 6.2 MB/s eta 0:02:03     |████▊                           | 132.3 MB 14.6 MB/s eta 0:00:52     |████▉                           | 135.2 MB 14.6 MB/s eta 0:00:52     |█████                           | 135.8 MB 14.6 MB/s eta 0:00:52     |█████                           | 137.0 MB 5.6 MB/s eta 0:02:14     |█████                           | 137.2 MB 5.6 MB/s eta 0:02:14     |█████                           | 138.0 MB 5.6 MB/s eta 0:02:14     |█████                           | 138.4 MB 5.6 MB/s eta 0:02:14     |█████▏                          | 142.5 MB 2.9 MB/s eta 0:04:18     |█████▏                          | 143.1 MB 2.9 MB/s eta 0:04:17     |█████▏                          | 144.1 MB 2.9 MB/s eta 0:04:17     |█████▎                          | 145.5 MB 4.1 MB/s eta 0:02:59     |█████▎                          | 147.2 MB 4.1 MB/s eta 0:02:59     |█████▎                          | 147.6 MB 4.1 MB/s eta 0:02:59     |█████▍                          | 148.5 MB 4.1 MB/s eta 0:02:59     |█████▋                          | 156.0 MB 4.2 MB/s eta 0:02:54     |█████▊                          | 157.5 MB 4.2 MB/s eta 0:02:54     |█████▊                          | 157.7 MB 4.2 MB/s eta 0:02:54     |█████▊                          | 158.7 MB 10.5 MB/s eta 0:01:10     |██████                          | 164.4 MB 10.5 MB/s eta 0:01:09     |██████▍                         | 175.9 MB 14.4 MB/s eta 0:00:50     |██████▌                         | 180.7 MB 14.4 MB/s eta 0:00:50     |███████                         | 194.9 MB 14.3 MB/s eta 0:00:49     |███████▏                        | 198.9 MB 14.9 MB/s eta 0:00:47     |███████▋                        | 210.5 MB 2.0 MB/s eta 0:05:32     |███████▊                        | 213.8 MB 2.0 MB/s eta 0:05:30     |████████                        | 224.8 MB 14.6 MB/s eta 0:00:46     |████████▊                       | 241.9 MB 13.7 MB/s eta 0:00:48     |████████▊                       | 242.9 MB 13.7 MB/s eta 0:00:48     |█████████                       | 246.5 MB 15.3 MB/s eta 0:00:42     |█████████                       | 246.9 MB 15.3 MB/s eta 0:00:42     |█████████▍                      | 258.8 MB 14.9 MB/s eta 0:00:43     |█████████▋                      | 265.9 MB 14.9 MB/s eta 0:00:42     |██████████▉                     | 300.6 MB 14.8 MB/s eta 0:00:40     |███████████▎                    | 311.5 MB 14.1 MB/s eta 0:00:41     |███████████▌                    | 319.2 MB 3.0 MB/s eta 0:03:13     |███████████▋                    | 322.2 MB 3.9 MB/s eta 0:02:26     |███████████▊                    | 325.7 MB 3.9 MB/s eta 0:02:25     |████████████▏                   | 338.1 MB 3.0 MB/s eta 0:03:01��████████▍                   | 344.0 MB 5.1 MB/s eta 0:01:47     |█████████████▏                  | 365.8 MB 14.4 MB/s eta 0:00:37     |█████████████▋                  | 376.5 MB 15.0 MB/s eta 0:00:35     |██████████████▎                 | 396.5 MB 14.2 MB/s eta 0:00:35     |██████████████▌                 | 401.6 MB 14.2 MB/s eta 0:00:35     |███████████████                 | 414.3 MB 85 kB/s eta 1:32:05     |███████████████                 | 418.5 MB 2.4 MB/s eta 0:03:14     |███████████████▎                | 423.0 MB 3.9 MB/s eta 0:01:58     |███████████████▌                | 428.7 MB 11.5 MB/s eta 0:00:40     |███████████████▋                | 432.5 MB 4.2 MB/s eta 0:01:50     |████████████████▊               | 462.4 MB 14.5 MB/s eta 0:00:30     |█████████████████▍              | 481.7 MB 14.4 MB/s eta 0:00:29     |█████████████████▍              | 482.1 MB 14.4 MB/s eta 0:00:29     |█████████████████▌              | 486.0 MB 2.8 MB/s eta 0:02:26     |█████████████████▉              | 494.6 MB 3.7 MB/s eta 0:01:47     |█████████████████▉              | 495.4 MB 3.7 MB/s eta 0:01:46     |█████████████████▉              | 495.9 MB 3.7 MB/s eta 0:01:46     |██████████████████              | 499.4 MB 2.7 MB/s eta 0:02:24     |██████████████████▍             | 510.0 MB 6.0 MB/s eta 0:01:04     |██████████████████▍             | 510.2 MB 6.0 MB/s eta 0:01:04     |██████████████████▍             | 510.9 MB 6.0 MB/s eta 0:01:03     |██████████████████▌             | 513.0 MB 5.5 MB/s eta 0:01:09     |██████████████████▉             | 522.7 MB 14.4 MB/s eta 0:00:26     |████████████████████            | 552.5 MB 14.2 MB/s eta 0:00:24     |████████████████████▉           | 578.8 MB 14.4 MB/s eta 0:00:22     |█████████████████████▌          | 594.7 MB 14.1 MB/s eta 0:00:21     |█████████████████████▉          | 604.2 MB 14.1 MB/s eta 0:00:21     |█████████████████████▉          | 604.5 MB 5.4 MB/s eta 0:00:53     |██████████████████████          | 613.0 MB 5.4 MB/s eta 0:00:51     |██████████████████████▍         | 621.8 MB 3.2 MB/s eta 0:01:23     |██████████████████████▍         | 622.0 MB 3.2 MB/s eta 0:01:23     |██████████████████████▌         | 623.7 MB 3.2 MB/s eta 0:01:22     |██████████████████████▌         | 625.3 MB 3.2 MB/s eta 0:01:22     |██████████████████████▋         | 625.9 MB 3.0 MB/s eta 0:01:27     |██████████████████████▋         | 626.3 MB 3.0 MB/s eta 0:01:27     |██████████████████████▋         | 626.6 MB 3.0 MB/s eta 0:01:27     |██████████████████████▋         | 627.4 MB 3.0 MB/s eta 0:01:27     |██████████████████████▋         | 628.5 MB 3.0 MB/s eta 0:01:26     |██████████████████████▊         | 628.7 MB 3.0 MB/s eta 0:01:26     |██████████████████████▉         | 632.6 MB 2.5 MB/s eta 0:01:41     |██████████████████████▉         | 634.3 MB 4.9 MB/s eta 0:00:52     |███████████████████████         | 635.5 MB 4.9 MB/s eta 0:00:52     |███████████████████████         | 638.5 MB 3.7 MB/s eta 0:01:07     |███████████████████████         | 639.4 MB 3.7 MB/s eta 0:01:07     |███████████████████████▏        | 642.2 MB 4.5 MB/s eta 0:00:55     |███████████████████████▏        | 643.7 MB 4.5 MB/s eta 0:00:55     |███████████████████████▎        | 645.1 MB 4.5 MB/s eta 0:00:54     |███████████████████████▎        | 646.4 MB 2.9 MB/s eta 0:01:23     |███████████████████████▍        | 648.5 MB 2.9 MB/s eta 0:01:23     |███████████████████████▍        | 649.7 MB 2.9 MB/s eta 0:01:22     |███████████████████████▌        | 650.2 MB 4.9 MB/s eta 0:00:49     |███████████████████████▉        | 660.3 MB 3.1 MB/s eta 0:01:14     |███████████████████████▉        | 660.5 MB 3.1 MB/s eta 0:01:14     |████████████████████████        | 665.1 MB 5.2 MB/s eta 0:00:43     |████████████████████████        | 665.3 MB 5.2 MB/s eta 0:00:43     |████████████████████████        | 665.5 MB 5.2 MB/s eta 0:00:43     |████████████████████████        | 666.0 MB 5.2 MB/s eta 0:00:43     |████████████████████████        | 666.2 MB 5.2 MB/s eta 0:00:43     |████████████████████████▏       | 670.9 MB 3.7 MB/s eta 0:00:59     |████████████████████████▋       | 682.7 MB 3.3 MB/s eta 0:01:02     |████████████████████████▋       | 683.2 MB 3.3 MB/s eta 0:01:02     |████████████████████████▉       | 689.5 MB 3.1 MB/s eta 0:01:05��██▋     | 739.4 MB 14.4 MB/s eta 0:00:11     |██████████████████████████▉     | 743.5 MB 14.4 MB/s eta 0:00:11     |███████████████████████████▏    | 753.0 MB 14.7 MB/s eta 0:00:10     |███████████████████████████▎    | 756.4 MB 14.7 MB/s eta 0:00:09     |███████████████████████████▌    | 762.8 MB 4.2 MB/s eta 0:00:30     |███████████████████████████▉    | 770.6 MB 2.9 MB/s eta 0:00:40     |████████████████████████████▍   | 787.0 MB 3.7 MB/s eta 0:00:28     |████████████████████████████▌   | 789.1 MB 3.7 MB/s eta 0:00:27     |████████████████████████████▉   | 799.5 MB 2.6 MB/s eta 0:00:34     |█████████████████████████████▎  | 812.1 MB 5.9 MB/s eta 0:00:13     |█████████████████████████████▎  | 812.9 MB 5.9 MB/s eta 0:00:13     |██████████████████████████████▏ | 836.7 MB 2.7 MB/s eta 0:00:19     |██████████████████████████████▍ | 844.0 MB 5.6 MB/s eta 0:00:08     |██████████████████████████████▌ | 847.0 MB 5.6 MB/s eta 0:00:08     |██████████████████████████████▋ | 848.3 MB 13.7 MB/s eta 0:00:03     |███████████████████████████████▏| 864.6 MB 9.6 MB/s eta 0:00:03     |███████████████████████████████▊| 881.2 MB 727 kB/s eta 0:00:09████████| 885.2 MB 192 kB/s eta 0:00:12     |████████████████████████████████| 887.1 MB 192 kB/s eta 0:00:02\n",
      "\u001b[?25hCollecting nvidia-cudnn-cu11==8.5.0.96\n",
      "  Using cached nvidia_cudnn_cu11-8.5.0.96-2-py3-none-manylinux1_x86_64.whl (557.1 MB)\n",
      "Requirement already satisfied: typing-extensions in /shared/centos7/anaconda3/2022.05/lib/python3.9/site-packages (from torch==1.13.1) (4.1.1)\n",
      "Collecting nvidia-cuda-nvrtc-cu11==11.7.99\n",
      "  Using cached nvidia_cuda_nvrtc_cu11-11.7.99-2-py3-none-manylinux1_x86_64.whl (21.0 MB)\n",
      "Collecting nvidia-cublas-cu11==11.10.3.66\n",
      "  Using cached nvidia_cublas_cu11-11.10.3.66-py3-none-manylinux1_x86_64.whl (317.1 MB)\n",
      "Collecting nvidia-cuda-runtime-cu11==11.7.99\n",
      "  Using cached nvidia_cuda_runtime_cu11-11.7.99-py3-none-manylinux1_x86_64.whl (849 kB)\n",
      "Requirement already satisfied: setuptools in /shared/centos7/anaconda3/2022.05/lib/python3.9/site-packages (from nvidia-cublas-cu11==11.10.3.66->torch==1.13.1) (61.2.0)\n",
      "Requirement already satisfied: wheel in /shared/centos7/anaconda3/2022.05/lib/python3.9/site-packages (from nvidia-cublas-cu11==11.10.3.66->torch==1.13.1) (0.37.1)\n",
      "Installing collected packages: nvidia-cublas-cu11, nvidia-cudnn-cu11, nvidia-cuda-runtime-cu11, nvidia-cuda-nvrtc-cu11, torch\n",
      "Successfully installed nvidia-cublas-cu11-11.10.3.66 nvidia-cuda-nvrtc-cu11-11.7.99 nvidia-cuda-runtime-cu11-11.7.99 nvidia-cudnn-cu11-8.5.0.96 torch-1.13.1\n",
      "Defaulting to user installation because normal site-packages is not writeable\n",
      "Collecting torchtext==0.14.1\n",
      "  Downloading torchtext-0.14.1-cp39-cp39-manylinux1_x86_64.whl (2.0 MB)\n",
      "\u001b[K     |████████████████████████████████| 2.0 MB 5.4 MB/s eta 0:00:01\n",
      "\u001b[?25hRequirement already satisfied: requests in /shared/centos7/anaconda3/2022.05/lib/python3.9/site-packages (from torchtext==0.14.1) (2.27.1)\n",
      "Requirement already satisfied: numpy in /shared/centos7/anaconda3/2022.05/lib/python3.9/site-packages (from torchtext==0.14.1) (1.21.5)\n",
      "Requirement already satisfied: torch==1.13.1 in /home/lin.chuh/.local/lib/python3.9/site-packages (from torchtext==0.14.1) (1.13.1)\n",
      "Requirement already satisfied: tqdm in /shared/centos7/anaconda3/2022.05/lib/python3.9/site-packages (from torchtext==0.14.1) (4.64.0)\n",
      "Requirement already satisfied: nvidia-cuda-runtime-cu11==11.7.99 in /home/lin.chuh/.local/lib/python3.9/site-packages (from torch==1.13.1->torchtext==0.14.1) (11.7.99)\n",
      "Requirement already satisfied: nvidia-cublas-cu11==11.10.3.66 in /home/lin.chuh/.local/lib/python3.9/site-packages (from torch==1.13.1->torchtext==0.14.1) (11.10.3.66)\n",
      "Requirement already satisfied: nvidia-cuda-nvrtc-cu11==11.7.99 in /home/lin.chuh/.local/lib/python3.9/site-packages (from torch==1.13.1->torchtext==0.14.1) (11.7.99)\n",
      "Requirement already satisfied: typing-extensions in /shared/centos7/anaconda3/2022.05/lib/python3.9/site-packages (from torch==1.13.1->torchtext==0.14.1) (4.1.1)\n",
      "Requirement already satisfied: nvidia-cudnn-cu11==8.5.0.96 in /home/lin.chuh/.local/lib/python3.9/site-packages (from torch==1.13.1->torchtext==0.14.1) (8.5.0.96)\n",
      "Requirement already satisfied: wheel in /shared/centos7/anaconda3/2022.05/lib/python3.9/site-packages (from nvidia-cublas-cu11==11.10.3.66->torch==1.13.1->torchtext==0.14.1) (0.37.1)\n",
      "Requirement already satisfied: setuptools in /shared/centos7/anaconda3/2022.05/lib/python3.9/site-packages (from nvidia-cublas-cu11==11.10.3.66->torch==1.13.1->torchtext==0.14.1) (61.2.0)\n",
      "Requirement already satisfied: charset-normalizer~=2.0.0 in /shared/centos7/anaconda3/2022.05/lib/python3.9/site-packages (from requests->torchtext==0.14.1) (2.0.4)\n",
      "Requirement already satisfied: urllib3<1.27,>=1.21.1 in /shared/centos7/anaconda3/2022.05/lib/python3.9/site-packages (from requests->torchtext==0.14.1) (1.26.9)\n",
      "Requirement already satisfied: idna<4,>=2.5 in /shared/centos7/anaconda3/2022.05/lib/python3.9/site-packages (from requests->torchtext==0.14.1) (3.3)\n",
      "Requirement already satisfied: certifi>=2017.4.17 in /shared/centos7/anaconda3/2022.05/lib/python3.9/site-packages (from requests->torchtext==0.14.1) (2021.10.8)\n",
      "Installing collected packages: torchtext\n",
      "Successfully installed torchtext-0.14.1\n",
      "Defaulting to user installation because normal site-packages is not writeable\n",
      "Collecting torchdata==0.5.1\n",
      "  Downloading torchdata-0.5.1-cp39-cp39-manylinux_2_17_x86_64.manylinux2014_x86_64.whl (4.6 MB)\n",
      "\u001b[K     |████████████████████████████████| 4.6 MB 5.5 MB/s eta 0:00:01\n",
      "\u001b[?25hRequirement already satisfied: torch==1.13.1 in /home/lin.chuh/.local/lib/python3.9/site-packages (from torchdata==0.5.1) (1.13.1)\n",
      "Requirement already satisfied: urllib3>=1.25 in /shared/centos7/anaconda3/2022.05/lib/python3.9/site-packages (from torchdata==0.5.1) (1.26.9)\n",
      "Requirement already satisfied: requests in /shared/centos7/anaconda3/2022.05/lib/python3.9/site-packages (from torchdata==0.5.1) (2.27.1)\n",
      "Collecting portalocker>=2.0.0\n",
      "  Using cached portalocker-2.7.0-py2.py3-none-any.whl (15 kB)\n",
      "Requirement already satisfied: typing-extensions in /shared/centos7/anaconda3/2022.05/lib/python3.9/site-packages (from torch==1.13.1->torchdata==0.5.1) (4.1.1)\n",
      "Requirement already satisfied: nvidia-cudnn-cu11==8.5.0.96 in /home/lin.chuh/.local/lib/python3.9/site-packages (from torch==1.13.1->torchdata==0.5.1) (8.5.0.96)\n",
      "Requirement already satisfied: nvidia-cuda-runtime-cu11==11.7.99 in /home/lin.chuh/.local/lib/python3.9/site-packages (from torch==1.13.1->torchdata==0.5.1) (11.7.99)\n",
      "Requirement already satisfied: nvidia-cuda-nvrtc-cu11==11.7.99 in /home/lin.chuh/.local/lib/python3.9/site-packages (from torch==1.13.1->torchdata==0.5.1) (11.7.99)\n",
      "Requirement already satisfied: nvidia-cublas-cu11==11.10.3.66 in /home/lin.chuh/.local/lib/python3.9/site-packages (from torch==1.13.1->torchdata==0.5.1) (11.10.3.66)\n",
      "Requirement already satisfied: wheel in /shared/centos7/anaconda3/2022.05/lib/python3.9/site-packages (from nvidia-cublas-cu11==11.10.3.66->torch==1.13.1->torchdata==0.5.1) (0.37.1)\n",
      "Requirement already satisfied: setuptools in /shared/centos7/anaconda3/2022.05/lib/python3.9/site-packages (from nvidia-cublas-cu11==11.10.3.66->torch==1.13.1->torchdata==0.5.1) (61.2.0)\n",
      "Requirement already satisfied: charset-normalizer~=2.0.0 in /shared/centos7/anaconda3/2022.05/lib/python3.9/site-packages (from requests->torchdata==0.5.1) (2.0.4)\n",
      "Requirement already satisfied: idna<4,>=2.5 in /shared/centos7/anaconda3/2022.05/lib/python3.9/site-packages (from requests->torchdata==0.5.1) (3.3)\n",
      "Requirement already satisfied: certifi>=2017.4.17 in /shared/centos7/anaconda3/2022.05/lib/python3.9/site-packages (from requests->torchdata==0.5.1) (2021.10.8)\n",
      "Installing collected packages: portalocker, torchdata\n",
      "Successfully installed portalocker-2.7.0 torchdata-0.5.1\n"
     ]
    }
   ],
   "source": [
    "# ==================\n",
    "# ATTENTION:\n",
    "# For the first time, uncomment the following lines and re-run the cell.\n",
    "# You may have to hit the \"RESTART RUNTIME\" button in the output and then re-run this cell.\n",
    "# Once it is done, you can comment the following lines and run other cells.\n",
    "# ==================\n",
    "\n",
    "# # Create source and target language tokenizer. Make sure to install the dependencies.\n",
    "#!pip install -U spacy\n",
    "#!python -m spacy download en_core_web_sm\n",
    "#!python -m spacy download de_core_news_sm\n",
    "\n",
    "!pip install torch==1.13.1\n",
    "!pip install torchtext==0.14.1\n",
    "!pip install torchdata==0.5.1"
   ]
  },
  {
   "cell_type": "markdown",
   "id": "d789993e",
   "metadata": {
    "id": "d789993e"
   },
   "source": [
    "## Part 1: Text Classification with RNN (24 points)"
   ]
  },
  {
   "cell_type": "code",
   "execution_count": 2,
   "id": "92081dc6",
   "metadata": {
    "colab": {
     "base_uri": "https://localhost:8080/",
     "height": 374
    },
    "id": "92081dc6",
    "outputId": "c3824ad0-9d30-4236-f1e5-5c4aff810ae5"
   },
   "outputs": [
    {
     "name": "stdout",
     "output_type": "stream",
     "text": [
      "120000\n",
      "(3, \"Wall St. Bears Claw Back Into the Black (Reuters) Reuters - Short-sellers, Wall Street's dwindling\\\\band of ultra-cynics, are seeing green again.\")\n"
     ]
    }
   ],
   "source": [
    "\n",
    "\n",
    "import math\n",
    "\n",
    "\n",
    "import torch\n",
    "import torch.nn as nn\n",
    "import torch.nn.functional as F\n",
    "\n",
    "from torchtext.datasets import AG_NEWS\n",
    "train_iter = AG_NEWS(split='train')\n",
    "\n",
    "# Let's check what the data looks like\n",
    "#print(len(train_iter))\n",
    "#print(next(train_iter))\n",
    "\n",
    "\n",
    "print(len(list(train_iter)))\n",
    "print(next(iter(train_iter)))"
   ]
  },
  {
   "cell_type": "code",
   "execution_count": 3,
   "id": "7v902PAt9Nn3",
   "metadata": {
    "colab": {
     "base_uri": "https://localhost:8080/",
     "height": 1000
    },
    "id": "7v902PAt9Nn3",
    "outputId": "59ff4ea6-706c-44f8-b0f1-98fddc48aeab"
   },
   "outputs": [
    {
     "name": "stdout",
     "output_type": "stream",
     "text": [
      "Defaulting to user installation because normal site-packages is not writeable\n",
      "Requirement already satisfied: torchtext in /home/lin.chuh/.local/lib/python3.8/site-packages (0.14.1)\n",
      "Collecting torchtext\n",
      "  Downloading torchtext-0.15.1-cp38-cp38-manylinux1_x86_64.whl (2.0 MB)\n",
      "\u001b[K     |████████████████████████████████| 2.0 MB 4.4 MB/s eta 0:00:01     |█▉                              | 112 kB 4.4 MB/s eta 0:00:01\n",
      "\u001b[?25hRequirement already satisfied: numpy in /shared/centos7/anaconda3/2021.05/lib/python3.8/site-packages (from torchtext) (1.20.1)\n",
      "Requirement already satisfied: requests in /shared/centos7/anaconda3/2021.05/lib/python3.8/site-packages (from torchtext) (2.25.1)\n",
      "Collecting torchdata==0.6.0\n",
      "  Downloading torchdata-0.6.0-cp38-cp38-manylinux_2_17_x86_64.manylinux2014_x86_64.whl (4.6 MB)\n",
      "\u001b[K     |████████████████████████████████| 4.6 MB 8.6 MB/s eta 0:00:01\n",
      "\u001b[?25hCollecting torch==2.0.0\n",
      "  Downloading torch-2.0.0-cp38-cp38-manylinux1_x86_64.whl (619.9 MB)\n",
      "\u001b[K     |████████████████████████████████| 619.9 MB 14 kB/s  eta 0:00:011    |▊                               | 14.3 MB 12.6 MB/s eta 0:00:49     |█▌                              | 29.8 MB 12.4 MB/s eta 0:00:48     |█▉                              | 35.8 MB 12.4 MB/s eta 0:00:48     |██▌                             | 47.9 MB 12.4 MB/s eta 0:00:47     |███▌                            | 67.7 MB 13.0 MB/s eta 0:00:43     |████▍                           | 84.8 MB 12.5 MB/s eta 0:00:43     |█████▎                          | 102.9 MB 13.0 MB/s eta 0:00:40     |█████▍                          | 104.6 MB 13.0 MB/s eta 0:00:40     |██████▊                         | 130.5 MB 13.1 MB/s eta 0:00:38     |███████                         | 134.8 MB 13.1 MB/s eta 0:00:38     |███████▏                        | 137.8 MB 13.1 MB/s eta 0:00:37     |███████▌                        | 144.6 MB 12.8 MB/s eta 0:00:38     |███████▉                        | 152.6 MB 12.6 MB/s eta 0:00:38     |██████████                      | 193.3 MB 12.6 MB/s eta 0:00:34     |██████████▊                     | 208.3 MB 12.9 MB/s eta 0:00:32     |█████████████▍                  | 260.1 MB 12.3 MB/s eta 0:00:30     |██████████████▎                 | 276.8 MB 12.4 MB/s eta 0:00:28     |████████████████                | 311.5 MB 12.4 MB/s eta 0:00:25     |████████████████▉               | 326.3 MB 12.9 MB/s eta 0:00:23     |██████████████████              | 349.1 MB 12.7 MB/s eta 0:00:22     |██████████████████▏             | 351.8 MB 12.3 MB/s eta 0:00:22     |██████████████████▊             | 362.3 MB 12.5 MB/s eta 0:00:21     |███████████████████▏            | 370.3 MB 12.5 MB/s eta 0:00:21     |███████████████████▍            | 375.6 MB 13.0 MB/s eta 0:00:19     |████████████████████▌           | 397.5 MB 12.5 MB/s eta 0:00:18     |████████████████████▉           | 402.8 MB 12.6 MB/s eta 0:00:18     |██████████████████████▊         | 440.7 MB 12.4 MB/s eta 0:00:15     |███████████████████████▍        | 452.8 MB 12.4 MB/s eta 0:00:14     |█████████████████████████       | 483.5 MB 12.8 MB/s eta 0:00:11     |██████████████████████████▏     | 507.3 MB 12.3 MB/s eta 0:00:10     |███████████████████████████     | 522.3 MB 12.8 MB/s eta 0:00:08     |███████████████████████████     | 525.0 MB 12.8 MB/s eta 0:00:08     |█████████████████████████████   | 560.1 MB 11.9 MB/s eta 0:00:06     |█████████████████████████████   | 562.7 MB 11.9 MB/s eta 0:00:05     |█████████████████████████████▏  | 564.5 MB 12.1 MB/s eta 0:00:05     |█████████████████████████████▎  | 568.0 MB 12.1 MB/s eta 0:00:05�█▎ | 587.2 MB 12.1 MB/s eta 0:00:03     |███████████████████████████████▍| 607.6 MB 12.7 MB/s eta 0:00:01\n",
      "\u001b[?25hRequirement already satisfied: tqdm in /shared/centos7/anaconda3/2021.05/lib/python3.8/site-packages (from torchtext) (4.59.0)\n",
      "Requirement already satisfied: filelock in /shared/centos7/anaconda3/2021.05/lib/python3.8/site-packages (from torch==2.0.0->torchtext) (3.0.12)\n",
      "Collecting nvidia-nccl-cu11==2.14.3\n",
      "  Downloading nvidia_nccl_cu11-2.14.3-py3-none-manylinux1_x86_64.whl (177.1 MB)\n",
      "\u001b[K     |████████████████████████████████| 177.1 MB 51 kB/s s eta 0:00:01     |███████████████████▍            | 107.0 MB 12.9 MB/s eta 0:00:06     |████████████████████▏           | 111.4 MB 12.9 MB/s eta 0:00:06     |█████████████████████▋          | 119.4 MB 12.0 MB/s eta 0:00:05     |███████████████████████▌        | 130.1 MB 12.3 MB/s eta 0:00:04     |█████████████████████████▎      | 139.8 MB 12.2 MB/s eta 0:00:04     |██████████████████████████▍     | 146.0 MB 12.2 MB/s eta 0:00:03     |██████████████████████████▊     | 147.8 MB 12.2 MB/s eta 0:00:03     |█████████████████████████████   | 160.9 MB 12.2 MB/s eta 0:00:02\n",
      "\u001b[?25hCollecting nvidia-cufft-cu11==10.9.0.58\n",
      "  Downloading nvidia_cufft_cu11-10.9.0.58-py3-none-manylinux1_x86_64.whl (168.4 MB)\n",
      "\u001b[K     |████████████████████████████████| 168.4 MB 47 kB/s s eta 0:00:01    |███▍                            | 17.6 MB 12.9 MB/s eta 0:00:12     |██████▍                         | 33.8 MB 12.8 MB/s eta 0:00:11     |█████████▉                      | 51.8 MB 12.9 MB/s eta 0:00:10     |██████████▉                     | 57.2 MB 12.9 MB/s eta 0:00:09     |███████████▋                    | 61.3 MB 12.9 MB/s eta 0:00:09     |███████████████████▉            | 104.6 MB 13.1 MB/s eta 0:00:05     |█████████████████████▍          | 112.8 MB 4.9 MB/s eta 0:00:12     |██████████████████████▎         | 117.5 MB 4.9 MB/s eta 0:00:11     |████████████████████████▊       | 130.0 MB 13.0 MB/s eta 0:00:03     |███████████████████████████████▍| 165.3 MB 12.3 MB/s eta 0:00:01\n",
      "\u001b[?25hCollecting nvidia-nvtx-cu11==11.7.91\n",
      "  Downloading nvidia_nvtx_cu11-11.7.91-py3-none-manylinux1_x86_64.whl (98 kB)\n",
      "\u001b[K     |████████████████████████████████| 98 kB 284 kB/s  eta 0:00:01\n",
      "\u001b[?25hRequirement already satisfied: nvidia-cudnn-cu11==8.5.0.96 in /home/lin.chuh/.local/lib/python3.8/site-packages (from torch==2.0.0->torchtext) (8.5.0.96)\n",
      "Collecting triton==2.0.0\n",
      "  Downloading triton-2.0.0-1-cp38-cp38-manylinux2014_x86_64.manylinux_2_17_x86_64.whl (63.2 MB)\n",
      "\u001b[K     |████████████████████████████████| 63.2 MB 5.4 kB/s  eta 0:00:01     |████████████▍                   | 24.6 MB 12.5 MB/s eta 0:00:04     |████████████████                | 31.7 MB 12.4 MB/s eta 0:00:03     |█████████████████▉              | 35.3 MB 12.4 MB/s eta 0:00:03     |████████████████████████▏       | 47.8 MB 12.8 MB/s eta 0:00:02     |██████████████████████████▌     | 52.3 MB 13.3 MB/s eta 0:00:01\n",
      "\u001b[?25hRequirement already satisfied: typing-extensions in /home/lin.chuh/.local/lib/python3.8/site-packages (from torch==2.0.0->torchtext) (4.5.0)\n",
      "Requirement already satisfied: nvidia-cublas-cu11==11.10.3.66 in /home/lin.chuh/.local/lib/python3.8/site-packages (from torch==2.0.0->torchtext) (11.10.3.66)\n",
      "Requirement already satisfied: networkx in /shared/centos7/anaconda3/2021.05/lib/python3.8/site-packages (from torch==2.0.0->torchtext) (2.5)\n",
      "Collecting nvidia-cuda-cupti-cu11==11.7.101\n",
      "  Downloading nvidia_cuda_cupti_cu11-11.7.101-py3-none-manylinux1_x86_64.whl (11.8 MB)\n",
      "\u001b[K     |████████████████████████████████| 11.8 MB 566 kB/s  eta 0:00:01\n",
      "\u001b[?25hCollecting nvidia-cusparse-cu11==11.7.4.91\n",
      "  Downloading nvidia_cusparse_cu11-11.7.4.91-py3-none-manylinux1_x86_64.whl (173.2 MB)\n",
      "\u001b[K     |████████████████████████████████| 173.2 MB 16 kB/s s eta 0:00:01    |█████▍                          | 29.1 MB 12.6 MB/s eta 0:00:12     |██████▏                         | 33.6 MB 12.6 MB/s eta 0:00:12     |██████▌                         | 35.4 MB 12.6 MB/s eta 0:00:11     |██████████████                  | 76.0 MB 13.3 MB/s eta 0:00:08     |██████████████████████          | 119.5 MB 12.7 MB/s eta 0:00:05     |██████████████████████████▊     | 144.7 MB 13.0 MB/s eta 0:00:03\n",
      "\u001b[?25hRequirement already satisfied: jinja2 in /shared/centos7/anaconda3/2021.05/lib/python3.8/site-packages (from torch==2.0.0->torchtext) (2.11.3)\n",
      "Requirement already satisfied: nvidia-cuda-runtime-cu11==11.7.99 in /home/lin.chuh/.local/lib/python3.8/site-packages (from torch==2.0.0->torchtext) (11.7.99)\n",
      "Collecting nvidia-curand-cu11==10.2.10.91\n",
      "  Downloading nvidia_curand_cu11-10.2.10.91-py3-none-manylinux1_x86_64.whl (54.6 MB)\n",
      "\u001b[K     |████████████████████████████████| 54.6 MB 13.0 MB/s eta 0:00:01   |▏                               | 276 kB 3.0 MB/s eta 0:00:19     |██                              | 3.2 MB 3.0 MB/s eta 0:00:18     |███                             | 5.1 MB 3.0 MB/s eta 0:00:17     |█████████▉                      | 16.7 MB 13.0 MB/s eta 0:00:03     |███████████████▋                | 26.7 MB 12.9 MB/s eta 0:00:03     |████████████████████████████████| 54.6 MB 13.0 MB/s \n",
      "\u001b[?25hRequirement already satisfied: sympy in /shared/centos7/anaconda3/2021.05/lib/python3.8/site-packages (from torch==2.0.0->torchtext) (1.8)\n",
      "Requirement already satisfied: nvidia-cuda-nvrtc-cu11==11.7.99 in /home/lin.chuh/.local/lib/python3.8/site-packages (from torch==2.0.0->torchtext) (11.7.99)\n",
      "Collecting nvidia-cusolver-cu11==11.4.0.1\n",
      "  Downloading nvidia_cusolver_cu11-11.4.0.1-2-py3-none-manylinux1_x86_64.whl (102.6 MB)\n",
      "\u001b[K     |████████████████████████████████| 102.6 MB 2.8 kB/s  eta 0:00:01    |███████                         | 22.5 MB 12.5 MB/s eta 0:00:07     |██████████████▍                 | 46.1 MB 12.3 MB/s eta 0:00:05     |██████████████████▎             | 58.5 MB 12.3 MB/s eta 0:00:04     |█████████████████████████████▌  | 94.7 MB 12.0 MB/s eta 0:00:01\n",
      "\u001b[?25hRequirement already satisfied: setuptools in /shared/centos7/anaconda3/2021.05/lib/python3.8/site-packages (from nvidia-cublas-cu11==11.10.3.66->torch==2.0.0->torchtext) (52.0.0.post20210125)\n",
      "Requirement already satisfied: wheel in /shared/centos7/anaconda3/2021.05/lib/python3.8/site-packages (from nvidia-cublas-cu11==11.10.3.66->torch==2.0.0->torchtext) (0.36.2)\n",
      "Requirement already satisfied: urllib3>=1.25 in /shared/centos7/anaconda3/2021.05/lib/python3.8/site-packages (from torchdata==0.6.0->torchtext) (1.26.4)\n",
      "Collecting cmake\n",
      "  Downloading cmake-3.26.1-py2.py3-none-manylinux2014_x86_64.manylinux_2_17_x86_64.whl (24.0 MB)\n",
      "\u001b[K     |████████████████████████████████| 24.0 MB 12.3 MB/s eta 0:00:01    |██████████▎                     | 7.7 MB 11.7 MB/s eta 0:00:02     |██████████████████████▍         | 16.8 MB 13.6 MB/s eta 0:00:01     |███████████████████████████▋    | 20.7 MB 13.6 MB/s eta 0:00:01\n",
      "\u001b[?25hCollecting lit\n",
      "  Downloading lit-16.0.0.tar.gz (144 kB)\n",
      "\u001b[K     |████████████████████████████████| 144 kB 11.9 MB/s eta 0:00:01\n",
      "\u001b[?25hRequirement already satisfied: MarkupSafe>=0.23 in /shared/centos7/anaconda3/2021.05/lib/python3.8/site-packages (from jinja2->torch==2.0.0->torchtext) (1.1.1)\n",
      "Requirement already satisfied: decorator>=4.3.0 in /shared/centos7/anaconda3/2021.05/lib/python3.8/site-packages (from networkx->torch==2.0.0->torchtext) (5.0.6)\n",
      "Requirement already satisfied: certifi>=2017.4.17 in /shared/centos7/anaconda3/2021.05/lib/python3.8/site-packages (from requests->torchtext) (2020.12.5)\n",
      "Requirement already satisfied: idna<3,>=2.5 in /shared/centos7/anaconda3/2021.05/lib/python3.8/site-packages (from requests->torchtext) (2.10)\n",
      "Requirement already satisfied: chardet<5,>=3.0.2 in /shared/centos7/anaconda3/2021.05/lib/python3.8/site-packages (from requests->torchtext) (4.0.0)\n",
      "Requirement already satisfied: mpmath>=0.19 in /shared/centos7/anaconda3/2021.05/lib/python3.8/site-packages (from sympy->torch==2.0.0->torchtext) (1.2.1)\n",
      "Building wheels for collected packages: lit\n",
      "  Building wheel for lit (setup.py) ... \u001b[?25ldone\n",
      "\u001b[?25h  Created wheel for lit: filename=lit-16.0.0-py3-none-any.whl size=93583 sha256=d04f3019a497699c47b796e5d63609f2336e1bafc59a4008b04fc29854d5a126\n",
      "  Stored in directory: /home/lin.chuh/.cache/pip/wheels/30/c8/c0/9d24f63f30f4879b8efb718a11b2191ef5c8510259d1d6c392\n",
      "Successfully built lit\n",
      "Installing collected packages: lit, cmake, triton, nvidia-nvtx-cu11, nvidia-nccl-cu11, nvidia-cusparse-cu11, nvidia-cusolver-cu11, nvidia-curand-cu11, nvidia-cufft-cu11, nvidia-cuda-cupti-cu11, torch, torchdata, torchtext\n",
      "  Attempting uninstall: torch\n",
      "    Found existing installation: torch 1.13.1\n",
      "    Uninstalling torch-1.13.1:\n",
      "      Successfully uninstalled torch-1.13.1\n",
      "  Attempting uninstall: torchdata\n",
      "    Found existing installation: torchdata 0.5.1\n",
      "    Uninstalling torchdata-0.5.1:\n",
      "      Successfully uninstalled torchdata-0.5.1\n",
      "  Attempting uninstall: torchtext\n",
      "    Found existing installation: torchtext 0.14.1\n",
      "    Uninstalling torchtext-0.14.1:\n",
      "      Successfully uninstalled torchtext-0.14.1\n",
      "Successfully installed cmake-3.26.1 lit-16.0.0 nvidia-cuda-cupti-cu11-11.7.101 nvidia-cufft-cu11-10.9.0.58 nvidia-curand-cu11-10.2.10.91 nvidia-cusolver-cu11-11.4.0.1 nvidia-cusparse-cu11-11.7.4.91 nvidia-nccl-cu11-2.14.3 nvidia-nvtx-cu11-11.7.91 torch-2.0.0 torchdata-0.6.0 torchtext-0.15.1 triton-2.0.0\n",
      "Found existing installation: torch 2.0.0\n",
      "Uninstalling torch-2.0.0:\n",
      "  Successfully uninstalled torch-2.0.0\n",
      "Found existing installation: torchdata 0.6.0\n",
      "Uninstalling torchdata-0.6.0:\n",
      "  Successfully uninstalled torchdata-0.6.0\n",
      "\u001b[33mWARNING: Skipping torchvision as it is not installed.\u001b[0m\n",
      "Found existing installation: torchtext 0.15.1\n",
      "Uninstalling torchtext-0.15.1:\n",
      "  Successfully uninstalled torchtext-0.15.1\n",
      "\u001b[33mWARNING: Skipping torchaudio as it is not installed.\u001b[0m\n",
      "\u001b[33mWARNING: Skipping fastai as it is not installed.\u001b[0m\n",
      "Defaulting to user installation because normal site-packages is not writeable\n",
      "Requirement already satisfied: portalocker in /home/lin.chuh/.local/lib/python3.8/site-packages (2.7.0)\n",
      "Defaulting to user installation because normal site-packages is not writeable\n",
      "Looking in links: https://download.pytorch.org/whl/nightly/cpu/torch_nightly.html\n",
      "Collecting torch\n",
      "  Downloading https://download.pytorch.org/whl/nightly/cpu/torch-2.1.0.dev20230330%2Bcpu-cp38-cp38-linux_x86_64.whl (196.4 MB)\n",
      "\u001b[K     |████████████████████████████████| 196.4 MB 26 kB/s  eta 0:00:011  |▊                               | 4.5 MB 7.4 MB/s eta 0:00:26     |████▊                           | 28.7 MB 12.8 MB/s eta 0:00:14     |█████                           | 30.4 MB 12.8 MB/s eta 0:00:13     |█████████▉                      | 60.2 MB 12.5 MB/s eta 0:00:11     |██████████████▌                 | 89.1 MB 12.5 MB/s eta 0:00:09     |██████████████▋                 | 89.6 MB 3.3 MB/s eta 0:00:32     |███████████████▍                | 94.2 MB 3.3 MB/s eta 0:00:31     |███████████████▌                | 95.1 MB 3.3 MB/s eta 0:00:31     |███████████████▋                | 95.7 MB 3.3 MB/s eta 0:00:31     |██████████████████              | 111.0 MB 12.7 MB/s eta 0:00:07     |████████████████████▋           | 126.6 MB 12.2 MB/s eta 0:00:06     |█████████████████████▍          | 131.4 MB 12.2 MB/s eta 0:00:06     |█████████████████████▋          | 132.3 MB 12.2 MB/s eta 0:00:06     |█████████████████████████       | 152.8 MB 12.9 MB/s eta 0:00:04     |██████████████████████████▌     | 162.9 MB 2.8 MB/s eta 0:00:13     |██████████████████████████▋     | 163.1 MB 2.8 MB/s eta 0:00:13     |██████████████████████████▋     | 163.4 MB 2.8 MB/s eta 0:00:12     |██████████████████████████▋     | 163.6 MB 2.8 MB/s eta 0:00:12     |████████████████████████████    | 171.4 MB 13.2 MB/s eta 0:00:02     |████████████████████████████    | 172.2 MB 13.2 MB/s eta 0:00:02     |████████████████████████████▏   | 173.0 MB 13.2 MB/s eta 0:00:02     |████████████████████████████▎   | 173.3 MB 13.2 MB/s eta 0:00:02     |███████████████████████████████▎| 191.7 MB 12.8 MB/s eta 0:00:01     |███████████████████████████████▎| 192.0 MB 12.8 MB/s eta 0:00:01     |███████████████████████████████▍| 192.8 MB 12.8 MB/s eta 0:00:01     |███████████████████████████████▌| 193.5 MB 12.8 MB/s eta 0:00:01     |███████████████████████████████▋| 193.8 MB 12.8 MB/s eta 0:00:01     |███████████████████████████████▉| 195.2 MB 2.8 MB/s eta 0:00:01     |███████████████████████████████▉| 195.5 MB 2.8 MB/s eta 0:00:01\n",
      "\u001b[?25hCollecting torchdata\n",
      "  Downloading https://download.pytorch.org/whl/nightly/torchdata-0.7.0.dev20230330-cp38-cp38-manylinux_2_17_x86_64.manylinux2014_x86_64.whl (4.6 MB)\n",
      "\u001b[K     |████████████████████████████████| 4.6 MB 5.6 MB/s eta 0:00:01\n",
      "\u001b[?25hRequirement already satisfied: jinja2 in /shared/centos7/anaconda3/2021.05/lib/python3.8/site-packages (from torch) (2.11.3)\n",
      "Requirement already satisfied: networkx in /shared/centos7/anaconda3/2021.05/lib/python3.8/site-packages (from torch) (2.5)\n",
      "Requirement already satisfied: typing-extensions in /home/lin.chuh/.local/lib/python3.8/site-packages (from torch) (4.5.0)\n",
      "Requirement already satisfied: filelock in /shared/centos7/anaconda3/2021.05/lib/python3.8/site-packages (from torch) (3.0.12)\n",
      "Requirement already satisfied: sympy in /shared/centos7/anaconda3/2021.05/lib/python3.8/site-packages (from torch) (1.8)\n",
      "Requirement already satisfied: urllib3>=1.25 in /shared/centos7/anaconda3/2021.05/lib/python3.8/site-packages (from torchdata) (1.26.4)\n",
      "Requirement already satisfied: requests in /shared/centos7/anaconda3/2021.05/lib/python3.8/site-packages (from torchdata) (2.25.1)\n",
      "Requirement already satisfied: MarkupSafe>=0.23 in /shared/centos7/anaconda3/2021.05/lib/python3.8/site-packages (from jinja2->torch) (1.1.1)\n",
      "Requirement already satisfied: decorator>=4.3.0 in /shared/centos7/anaconda3/2021.05/lib/python3.8/site-packages (from networkx->torch) (5.0.6)\n",
      "Requirement already satisfied: idna<3,>=2.5 in /shared/centos7/anaconda3/2021.05/lib/python3.8/site-packages (from requests->torchdata) (2.10)\n",
      "Requirement already satisfied: chardet<5,>=3.0.2 in /shared/centos7/anaconda3/2021.05/lib/python3.8/site-packages (from requests->torchdata) (4.0.0)\n",
      "Requirement already satisfied: certifi>=2017.4.17 in /shared/centos7/anaconda3/2021.05/lib/python3.8/site-packages (from requests->torchdata) (2020.12.5)\n",
      "Requirement already satisfied: mpmath>=0.19 in /shared/centos7/anaconda3/2021.05/lib/python3.8/site-packages (from sympy->torch) (1.2.1)\n",
      "Installing collected packages: torch, torchdata\n",
      "Successfully installed torch-2.1.0.dev20230330+cpu torchdata-0.7.0.dev20230330\n"
     ]
    }
   ],
   "source": [
    "# !pip install -U torchtext\n",
    "# !pip uninstall -y torch torchdata torchvision torchtext torchaudio fastai\n",
    "# !pip install portalocker\n",
    "# !pip install --pre torch torchdata -f https://download.pytorch.org/whl/nightly/cpu/torch_nightly.html"
   ]
  },
  {
   "cell_type": "code",
   "execution_count": 3,
   "id": "RHWfmv8p-mNY",
   "metadata": {
    "colab": {
     "base_uri": "https://localhost:8080/"
    },
    "id": "RHWfmv8p-mNY",
    "outputId": "99781f79-5f58-4841-f2c5-4392c9bcff39"
   },
   "outputs": [
    {
     "name": "stdout",
     "output_type": "stream",
     "text": [
      "1.13.1+cu117\n",
      "0.14.1\n"
     ]
    }
   ],
   "source": [
    "import torch\n",
    "import torchtext\n",
    "print(torch.__version__)\n",
    "print(torchtext.__version__)"
   ]
  },
  {
   "cell_type": "markdown",
   "id": "28eb6bd7",
   "metadata": {
    "id": "28eb6bd7"
   },
   "source": [
    "### <font size='4' color='red'>Task 1.1: Implement a RNNCell (4 points)</font>"
   ]
  },
  {
   "cell_type": "code",
   "execution_count": 4,
   "id": "2db54f12",
   "metadata": {
    "id": "2db54f12"
   },
   "outputs": [],
   "source": [
    "# Documentation of nn.Module https://pytorch.org/docs/stable/generated/torch.nn.Module.html#torch.nn.Module\n",
    "class RNNCell(torch.nn.Module):\n",
    "    \"\"\"\n",
    "    RNNCell is a single cell that takes x_t and h_{t_1} as input and outputs h_t.\n",
    "    \"\"\"\n",
    "    def __init__(self, input_dim: int, hidden_dim: int):\n",
    "        \"\"\"\n",
    "        Constructor of RNNCell.\n",
    "        \n",
    "        Inputs: \n",
    "        - input_dim: Dimension of the input x_t\n",
    "        - hidden_dim: Dimension of the hidden state h_{t-1} and h_t\n",
    "        \"\"\"\n",
    "        \n",
    "        # We always need to do this step to properly implement the constructor\n",
    "        super(RNNCell, self).__init__()\n",
    "        \n",
    "        self.linear_x, self.linear_h, self.non_linear = None, None, None  \n",
    "        \n",
    "        ###########################################################################\n",
    "        # TODO: Define the linear transformation layers for x_t and h_{t-1} and   #\n",
    "        # the non-linear layer. You can use tanh here.                            #\n",
    "        ###########################################################################\n",
    "        self.linear_x = nn.Linear(input_dim, hidden_dim)\n",
    "        self.linear_h = nn.Linear(hidden_dim, hidden_dim)\n",
    "\n",
    "        self.non_linear = nn.Tanh()\n",
    "        #raise NotImplementedError\n",
    "        ###########################################################################\n",
    "        #                             END OF YOUR CODE                            #\n",
    "        ###########################################################################\n",
    "        \n",
    "    def forward(self, x_cur: torch.Tensor, h_prev: torch.Tensor):\n",
    "        \"\"\"\n",
    "        Compute h_t given x_t and h_{t-1}.\n",
    "        \n",
    "        Inputs:\n",
    "        - x_cur: x_t, a tensor with the same of BxC, where B is the batch size and \n",
    "          C is the channel dimension.\n",
    "        - h_prev: h_{t-1}, a tensor with the same of BxH, where H is the channel\n",
    "          dimension.\n",
    "        \"\"\"\n",
    "        h_cur = None\n",
    "        h_cur = self.non_linear(self.linear_x(x_cur) + self.linear_h(h_prev))\n",
    "        \n",
    "\n",
    "        ###########################################################################\n",
    "        # TODO: Define the linear transformation layers for x_t and h_{t-1} and   #\n",
    "        # the non-linear layer.                                                   #\n",
    "        ###########################################################################\n",
    "        #raise NotImplementedError\n",
    "        ###########################################################################\n",
    "        #                             END OF YOUR CODE                            #\n",
    "        ###########################################################################\n",
    "        return h_cur"
   ]
  },
  {
   "cell_type": "code",
   "execution_count": 5,
   "id": "b62f7e2d",
   "metadata": {
    "colab": {
     "base_uri": "https://localhost:8080/"
    },
    "id": "b62f7e2d",
    "outputId": "ed1d2bd6-36c5-4b27-9ec4-e3d3a24e6e3a"
   },
   "outputs": [
    {
     "name": "stdout",
     "output_type": "stream",
     "text": [
      "torch.Size([2, 16])\n"
     ]
    }
   ],
   "source": [
    "# Let's run a sanity check of your model\n",
    "x = torch.randn((2, 8))\n",
    "h = torch.randn((2, 16))\n",
    "model = RNNCell(8, 16)\n",
    "y = model(x, h)\n",
    "assert len(y.shape) == 2 and y.shape[0] == 2 and y.shape[1] == 16\n",
    "print(y.shape)"
   ]
  },
  {
   "cell_type": "markdown",
   "id": "cb2ee43c",
   "metadata": {
    "id": "cb2ee43c"
   },
   "source": [
    "### <font size='4' color='red'>Task 1.2: Implement a single-layer (single-stack) RNN (5 points)</font>"
   ]
  },
  {
   "cell_type": "code",
   "execution_count": 6,
   "id": "f0120521",
   "metadata": {
    "id": "f0120521"
   },
   "outputs": [],
   "source": [
    "class RNN(torch.nn.Module):\n",
    "    \"\"\"\n",
    "    RNN is a single-layer (stack) RNN by connecting multiple RNNCell together in a single\n",
    "    direction, where the input sequence is processed from left to right.\n",
    "    \"\"\"\n",
    "    def __init__(self, input_dim: int, hidden_dim: int):\n",
    "        \"\"\"\n",
    "        Constructor of the RNN module.\n",
    "        \n",
    "        Inputs: \n",
    "        - input_dim: Dimension of the input x_t\n",
    "        - hidden_dim: Dimension of the hidden state h_{t-1} and h_t\n",
    "        \"\"\"\n",
    "        super(RNN, self).__init__()\n",
    "        \n",
    "        self.hidden_dim = hidden_dim\n",
    "\n",
    "        self.rnn = RNNCell(input_dim, hidden_dim)\n",
    "\n",
    "        ###########################################################################\n",
    "        # TODO: Define the RNNCell.                                               #\n",
    "        ###########################################################################\n",
    "        #raise NotImplementedError\n",
    "        ###########################################################################\n",
    "        #                             END OF YOUR CODE                            #\n",
    "        ###########################################################################\n",
    "        \n",
    "    def forward(self, x: torch.Tensor):\n",
    "        \"\"\"\n",
    "        Compute the hidden representations for every token in the input sequence.\n",
    "        \n",
    "        Input:\n",
    "        - x: A tensor with the shape of BxLxC, where B is the batch size, L is the squence \n",
    "          length, and C is the channel dimmension\n",
    "          \n",
    "        Return:\n",
    "        - h: A tensor with the shape of BxLxH, where H is the hidden dimension of RNNCell\n",
    "        \"\"\"\n",
    "        b = x.shape[0]\n",
    "        seq_len = x.shape[1]\n",
    "        \n",
    "        # initialize the hidden dimension\n",
    "        init_h = x.new_zeros((b, self.hidden_dim))\n",
    "        \n",
    "        \n",
    "        #h = None\n",
    "        ###########################################################################\n",
    "        # TODO: Compute the hidden representation for every token in the input    #\n",
    "        # from left to right.\n",
    "        ###########################################################################\n",
    "        for t in range(x.shape[1]):\n",
    "            if t ==0:\n",
    "                prev_h = init_h\n",
    "            x_step = x[:, t, :]\n",
    "            prev_h = self.rnn(x_step, prev_h)\n",
    "\n",
    "            h_reshape = torch.reshape(prev_h, [prev_h.shape[0],1,prev_h.shape[1]])\n",
    "            #print(h_reshape.shape)\n",
    "            if t ==0:\n",
    "                h = h_reshape\n",
    "            else:\n",
    "            #prev_h = torch.reshape(prev_h, [prev_h.shape[0],1,prev_h.shape[1]])\n",
    "                h = torch.cat((h, h_reshape), dim=1)\n",
    "        #print(h.shape)\n",
    "        \n",
    "        #raise NotImplementedError\n",
    "        ###########################################################################\n",
    "        #                             END OF YOUR CODE                            #\n",
    "        ###########################################################################\n",
    "        #h = prev_h\n",
    "        \n",
    "        return h\n",
    "        "
   ]
  },
  {
   "cell_type": "code",
   "execution_count": 7,
   "id": "dfb661d8",
   "metadata": {
    "colab": {
     "base_uri": "https://localhost:8080/"
    },
    "id": "dfb661d8",
    "outputId": "ce048b49-5beb-4546-8073-632f3fa9746f"
   },
   "outputs": [
    {
     "name": "stdout",
     "output_type": "stream",
     "text": [
      "torch.Size([2, 10, 16])\n"
     ]
    }
   ],
   "source": [
    "# Let's run a sanity check of your model\n",
    "x = torch.randn((2, 10, 8))\n",
    "model = RNN(8, 16)\n",
    "y = model(x)\n",
    "assert len(y.shape) == 3\n",
    "for dim, dim_gt in zip(y.shape, [2, 10, 16]):\n",
    "    assert dim == dim_gt\n",
    "print(y.shape)"
   ]
  },
  {
   "cell_type": "markdown",
   "id": "90f8ec47",
   "metadata": {
    "id": "90f8ec47"
   },
   "source": [
    "### <font size='4' color='red'>Task 1.3: Implement a RNN-based text classifier (4 points)</font>"
   ]
  },
  {
   "cell_type": "code",
   "execution_count": 8,
   "id": "ed42889c",
   "metadata": {
    "id": "ed42889c"
   },
   "outputs": [],
   "source": [
    "class RNNClassifier(nn.Module):\n",
    "    \"\"\"\n",
    "    A RNN-based classifier for text classification. It first converts tokens into word embeddings.\n",
    "    And then feeds the embeddings into a RNN, where the hidden representations of all tokens are\n",
    "    then averaged to get a single embedding of the sentence. It will be used as input to a linear\n",
    "    classifier.\n",
    "    \"\"\"\n",
    "    def __init__(self, \n",
    "            vocab_size: int, embed_dim: int, rnn_hidden_dim: int, num_class: int, pad_token: int\n",
    "        ):\n",
    "        \"\"\"\n",
    "        Constructor.\n",
    "        \n",
    "        Inputs:\n",
    "        - vocab_size: Vocabulary size, indicating how many tokens we have in total.\n",
    "        - embed_dim: The dimension of word embeddings\n",
    "        - rnn_hidden_dim: The hidden dimension of the RNN.\n",
    "        - num_class: Number of classes.\n",
    "        - pad_token: The index of the padding token.\n",
    "        \"\"\"\n",
    "        super(RNNClassifier, self).__init__()\n",
    "        \n",
    "        # word embedding layer\n",
    "        self.embedding = nn.Embedding(vocab_size, embed_dim, padding_idx=pad_token)\n",
    "        \n",
    "        self.rnn, self.fc = None, None\n",
    "        \n",
    "        ###########################################################################\n",
    "        # TODO: Define the RNN and the classification layer.                      #\n",
    "        ###########################################################################\n",
    "        self.rnn = RNN(embed_dim, rnn_hidden_dim)\n",
    "        self.fc = nn.Linear(rnn_hidden_dim, num_class)\n",
    "            \n",
    "        #raise NotImplementedError\n",
    "        ###########################################################################\n",
    "        #                             END OF YOUR CODE                            #\n",
    "        ###########################################################################\n",
    "\n",
    "    def init_weights(self):\n",
    "        initrange = 0.5\n",
    "        self.embedding.weight.data.uniform_(-initrange, initrange)\n",
    "        self.fc.weight.data.uniform_(-initrange, initrange)\n",
    "        self.fc.bias.data.zero_()\n",
    "\n",
    "    def forward(self, text):\n",
    "        \"\"\"\n",
    "        Get classification scores (logits) of the input.\n",
    "        \n",
    "        Input:\n",
    "        - text: Tensor with the shape of BxLxC.\n",
    "        \n",
    "        Return:\n",
    "        - logits: Tensor with the shape of BxK, where K is the number of classes\n",
    "        \"\"\"\n",
    "        \n",
    "        # get word embeddings\n",
    "        embedded = self.embedding(text)\n",
    "        #print(embedded.shape)\n",
    "        logits = None\n",
    "        ###########################################################################\n",
    "        # TODO: Compute logits of the input.                                      #\n",
    "        ###########################################################################\n",
    "        out = self.rnn(embedded)\n",
    "        avg = torch.mean(out, dim=1)\n",
    "        #print(avg.shape)\n",
    "        logits = self.fc(avg)\n",
    "        \n",
    "        #raise NotImplementedError\n",
    "        ###########################################################################\n",
    "        #                             END OF YOUR CODE                            #\n",
    "        ###########################################################################\n",
    "        \n",
    "        return logits"
   ]
  },
  {
   "cell_type": "code",
   "execution_count": 9,
   "id": "ce2d2044",
   "metadata": {
    "colab": {
     "base_uri": "https://localhost:8080/"
    },
    "id": "ce2d2044",
    "outputId": "c3dae7af-edbf-455e-e76c-cdea4645dbcc"
   },
   "outputs": [
    {
     "name": "stdout",
     "output_type": "stream",
     "text": [
      "x.shape: torch.Size([2, 10])\n",
      "torch.Size([2, 3])\n",
      "torch.Size([2, 3]) cuda:0\n"
     ]
    }
   ],
   "source": [
    "# Let's run a sanity check of your model\n",
    "vocab_size = 10\n",
    "embed_dim = 16\n",
    "rnn_hidden_dim = 32\n",
    "num_class = 3\n",
    "\n",
    "x = torch.arange(vocab_size).view(1, -1)\n",
    "x = torch.cat((x, x), dim=0)\n",
    "print('x.shape: {}'.format(x.shape))\n",
    "model = RNNClassifier(vocab_size, embed_dim, rnn_hidden_dim, num_class, 0)\n",
    "y = model(x)\n",
    "assert len(y.shape) == 2 and y.shape[0] == 2 and y.shape[1] == num_class\n",
    "print(y.shape)\n",
    "\n",
    "model = model.to('cuda:0')\n",
    "x = x.to('cuda:0')\n",
    "y = model(x)\n",
    "print(y.shape, y.device)"
   ]
  },
  {
   "cell_type": "markdown",
   "id": "612890ad",
   "metadata": {
    "id": "612890ad"
   },
   "source": [
    "### Set up data related stuff"
   ]
  },
  {
   "cell_type": "code",
   "execution_count": 10,
   "id": "c92ea24e",
   "metadata": {
    "id": "c92ea24e"
   },
   "outputs": [],
   "source": [
    "# check here for details https://github.com/pytorch/text/blob/main/torchtext/data/utils.py#L52-#L166\n",
    "from torchtext.data.utils import get_tokenizer\n",
    "# check here for details https://github.com/pytorch/text/blob/main/torchtext/vocab/vocab_factory.py#L65-L113\n",
    "from torchtext.vocab import build_vocab_from_iterator\n",
    "\n",
    "# A tokenizer splits a input setence into a set of tokens, including those puncuation\n",
    "# For example\n",
    "# >>> tokens = tokenizer(\"You can now install TorchText using pip!\")\n",
    "# >>> tokens\n",
    "# >>> ['you', 'can', 'now', 'install', 'torchtext', 'using', 'pip', '!']\n",
    "tokenizer = get_tokenizer('basic_english')\n",
    "\n",
    "train_iter = AG_NEWS(split='train')\n",
    "\n",
    "def yield_tokens(data_iter):\n",
    "    for _, text in data_iter:\n",
    "        yield tokenizer(text)\n",
    "\n",
    "# Creates a vocab object which maps tokens to indices\n",
    "# Check here for details https://github.com/pytorch/text/blob/main/torchtext/vocab/vocab.py\n",
    "vocab = build_vocab_from_iterator(yield_tokens(train_iter), specials=[\"<unk>\"])\n",
    "\n",
    "# The specified token will be returned when a out-of-vocabulary token is queried.\n",
    "vocab.set_default_index(vocab[\"<unk>\"])\n",
    "\n",
    "text_pipeline = lambda x: vocab(tokenizer(x))\n",
    "label_pipeline = lambda x: int(x) - 1\n",
    "\n",
    "# The padding token we need to use\n",
    "# The returned indices are always in an array\n",
    "PAD_TOKEN = vocab(tokenizer('<pad>'))\n",
    "assert len(PAD_TOKEN) == 1\n",
    "PAD_TOKEN = PAD_TOKEN[0]"
   ]
  },
  {
   "cell_type": "markdown",
   "id": "0f13c252",
   "metadata": {
    "id": "0f13c252"
   },
   "source": [
    "### <font size='4' color='red'>Task 1.4: Collate Batched Data with Data Loaders (4 points)</font>"
   ]
  },
  {
   "cell_type": "code",
   "execution_count": 11,
   "id": "bdd006c5",
   "metadata": {
    "colab": {
     "base_uri": "https://localhost:8080/",
     "height": 236
    },
    "id": "bdd006c5",
    "outputId": "1df1c28f-66ba-4e43-bdd8-59cd3bf092c9"
   },
   "outputs": [
    {
     "name": "stdout",
     "output_type": "stream",
     "text": [
      "label.shape: torch.Size([8])\n",
      "label: tensor([2, 2, 2, 2, 2, 2, 2, 2])\n",
      "data.shape: torch.Size([8, 49])\n"
     ]
    }
   ],
   "source": [
    "# Documentation of DataLoader https://pytorch.org/docs/stable/data.html#torch.utils.data.DataLoader\n",
    "from torch.utils.data import DataLoader  \n",
    "\n",
    "# Merges a list of samples to form a mini-batch of Tensor(s)\n",
    "def collate_batch(batch):\n",
    "    \"\"\"\n",
    "    Input: \n",
    "    - batch: A list of data in a mini batch, where the length denotes the batch size. \n",
    "      The actual context depends on a particular dataset. In our case, each position \n",
    "      contains a label and a Tensor (tokens in a sentence).\n",
    "      \n",
    "    Returns:\n",
    "    - batched_label: A Tensor with the shape of (B,)\n",
    "    - batched_text: A Tensor with the shape of (B, L, C), where L is the sequence length\n",
    "      and C is the channeld dimension\n",
    "    \"\"\"\n",
    "    label_list, text_list, text_len_list = [], [], []\n",
    "    for (_label, _text) in batch:\n",
    "        label_list.append(label_pipeline(_label))\n",
    "        processed_text = torch.tensor(text_pipeline(_text), dtype=torch.int64)\n",
    "        text_list.append(processed_text)\n",
    "        text_len_list.append(processed_text.size(0))\n",
    "    batched_label, batched_text = None, None\n",
    "\n",
    "    \n",
    "    \n",
    "\n",
    "    #label_list\n",
    "    ###########################################################################\n",
    "    # TODO: Pad the text tensor in the mini batch so that they have the same  #\n",
    "    # length. Specifically, you need to calculate the maximum length in the   #\n",
    "    # batch and then add the token PAD_TOKEN to the end of those              #\n",
    "    # shorter sentences.                                                      #\n",
    "    ###########################################################################\n",
    "    batched_label = torch.Tensor(label_list)\n",
    "    \n",
    "    max_len = max(text_len_list)\n",
    "    for i in range(len(text_list)):\n",
    "        text = torch.Tensor(text_list[i])\n",
    "        #print(text)\n",
    "      \n",
    "        len_t = len(text)\n",
    "        pad_token = torch.Tensor((max_len-len_t)*[PAD_TOKEN])\n",
    "        pad_text = torch.cat([text, pad_token])[None, :]\n",
    "\n",
    "        if i == 0:\n",
    "            batched_text = pad_text\n",
    "            #batched_label = label\n",
    "        else:\n",
    "            batched_text = torch.cat((batched_text, pad_text))\n",
    "            #batched_label = torch.cat((batched_label, label))\n",
    "            #print(batched_label)\n",
    "\n",
    "      #print(batched_label.shape)\n",
    "      #print(pad_t.shape)\n",
    "        \n",
    "    #raise NotImplementedError\n",
    "    ###########################################################################\n",
    "    #                             END OF YOUR CODE                            #\n",
    "    ###########################################################################\n",
    "    \n",
    "    return batched_label.long(), batched_text.long()\n",
    "\n",
    "# Now, let's check what the batched data looks like\n",
    "train_iter = AG_NEWS(split='train')\n",
    "dataloader = DataLoader(train_iter, batch_size=8, shuffle=False, collate_fn=collate_batch)\n",
    "for idx, (label, data) in enumerate(dataloader):\n",
    "    if idx > 0:\n",
    "        break\n",
    "    print('label.shape: {}'.format(label.shape))\n",
    "    print('label: {}'.format(label))\n",
    "    print('data.shape: {}'.format(data.shape))"
   ]
  },
  {
   "cell_type": "markdown",
   "id": "a5c3571e",
   "metadata": {
    "id": "a5c3571e"
   },
   "source": [
    "### <font size='4' color='red'>Task 1.5: Functions of training for a single epoch and evaluation (4 points)</font>"
   ]
  },
  {
   "cell_type": "code",
   "execution_count": 12,
   "id": "b5dc8d4a",
   "metadata": {
    "id": "b5dc8d4a"
   },
   "outputs": [],
   "source": [
    "import time\n",
    "\n",
    "def train(model, dataloader, loss_func, device, grad_norm_clip):\n",
    "    model.train()\n",
    "    total_acc, total_count = 0, 0\n",
    "    log_interval = 500\n",
    "    start_time = time.time()\n",
    "\n",
    "    for idx, (label, text) in enumerate(dataloader):\n",
    "        label = label.to(device)\n",
    "        text = text.to(device)\n",
    "        optimizer.zero_grad()\n",
    "        \n",
    "        logits = None\n",
    "        \n",
    "        ###########################################################################\n",
    "        # TODO: compute the logits of the input, get the loss, and do the         #\n",
    "        # gradient backpropagation.\n",
    "        ###########################################################################\n",
    "        logits = model(text)\n",
    "        loss = loss_func(logits, label)\n",
    "        loss.backward()\n",
    "        #raise NotImplementedError\n",
    "        ###########################################################################\n",
    "        #                             END OF YOUR CODE                            #\n",
    "        ###########################################################################\n",
    "        \n",
    "        torch.nn.utils.clip_grad_norm_(model.parameters(), grad_norm_clip)\n",
    "        optimizer.step()\n",
    "        total_acc += (logits.argmax(1) == label).sum().item()\n",
    "        total_count += label.size(0)\n",
    "        if idx % log_interval == 0 and idx > 0:\n",
    "            elapsed = time.time() - start_time\n",
    "            print('| epoch {:3d} | {:5d}/{:5d} batches '\n",
    "                  '| accuracy {:8.3f}'.format(epoch, idx, len(dataloader),\n",
    "                                              total_acc/total_count))\n",
    "            total_acc, total_count = 0, 0\n",
    "            start_time = time.time()\n",
    "\n",
    "def evaluate(model, dataloader, loss_func, device):\n",
    "    model.eval()\n",
    "    total_acc, total_count = 0, 0\n",
    "\n",
    "    with torch.no_grad():\n",
    "        for idx, (label, text) in enumerate(dataloader):\n",
    "            label = label.to(device)\n",
    "            text = text.to(device)\n",
    "            \n",
    "            \n",
    "            ###########################################################################\n",
    "            # TODO: compute the logits of the input, get the loss.                    #\n",
    "            ###########################################################################\n",
    "            logits = model(text)\n",
    "            #raise NotImplementedError\n",
    "            ###########################################################################\n",
    "            #                             END OF YOUR CODE                            #\n",
    "            ###########################################################################\n",
    "            \n",
    "            total_acc += (logits.argmax(1) == label).sum().item()\n",
    "            total_count += label.size(0)\n",
    "    return total_acc/total_count"
   ]
  },
  {
   "cell_type": "markdown",
   "id": "e249cd2c",
   "metadata": {
    "id": "e249cd2c"
   },
   "source": [
    "### <font size='4' color='red'>Task 1.6: Define the model and loss function to train the model (3 points)</font>"
   ]
  },
  {
   "cell_type": "code",
   "execution_count": 14,
   "id": "0112151f",
   "metadata": {
    "colab": {
     "base_uri": "https://localhost:8080/",
     "height": 381
    },
    "id": "0112151f",
    "outputId": "8f7bca98-603f-44d0-aac0-178ae205c47f"
   },
   "outputs": [
    {
     "name": "stdout",
     "output_type": "stream",
     "text": [
      "| epoch   1 |   500/ 1782 batches | accuracy    0.473\n",
      "| epoch   1 |  1000/ 1782 batches | accuracy    0.610\n",
      "| epoch   1 |  1500/ 1782 batches | accuracy    0.692\n",
      "-----------------------------------------------------------\n",
      "| end of epoch   1 | time: 67.03s | valid accuracy    0.749 \n",
      "-----------------------------------------------------------\n",
      "| epoch   2 |   500/ 1782 batches | accuracy    0.775\n",
      "| epoch   2 |  1000/ 1782 batches | accuracy    0.806\n",
      "| epoch   2 |  1500/ 1782 batches | accuracy    0.830\n",
      "-----------------------------------------------------------\n",
      "| end of epoch   2 | time: 67.20s | valid accuracy    0.836 \n",
      "-----------------------------------------------------------\n",
      "| epoch   3 |   500/ 1782 batches | accuracy    0.864\n",
      "| epoch   3 |  1000/ 1782 batches | accuracy    0.870\n",
      "| epoch   3 |  1500/ 1782 batches | accuracy    0.878\n",
      "-----------------------------------------------------------\n",
      "| end of epoch   3 | time: 66.93s | valid accuracy    0.873 \n",
      "-----------------------------------------------------------\n"
     ]
    }
   ],
   "source": [
    "from torch.utils.data.dataset import random_split\n",
    "from torchtext.data.functional import to_map_style_dataset\n",
    "\n",
    "assert torch.cuda.is_available()\n",
    "# device = 'cuda'\n",
    "device = torch.device(\"cuda\" if torch.cuda.is_available() else \"cpu\")\n",
    "\n",
    "# Hyper parameters\n",
    "epochs = 3 # epoch\n",
    "lr = 0.0005 # learning rate\n",
    "batch_size = 64 # batch size for training\n",
    "word_embed_dim = 64\n",
    "rnn_hidden_dim = 96\n",
    "\n",
    "train_iter = AG_NEWS(split='train')\n",
    "num_class = len(set([label for (label, text) in train_iter]))\n",
    "vocab_size = len(vocab)\n",
    "\n",
    "model, loss_func = None, None\n",
    "model = RNNClassifier(vocab_size, word_embed_dim, rnn_hidden_dim, num_class, 0)\n",
    "loss_func = torch.nn.CrossEntropyLoss()\n",
    "\n",
    "###########################################################################\n",
    "# TODO: Deinfe the classifier and loss function.\n",
    "###########################################################################\n",
    "#raise NotImplementedError\n",
    "###########################################################################\n",
    "#                             END OF YOUR CODE                            #\n",
    "###########################################################################\n",
    "\n",
    "# copy the model to the specified device (GPU)\n",
    "model = model.to(device)\n",
    "        \n",
    "optimizer = torch.optim.AdamW(model.parameters(), lr=lr)\n",
    "scheduler = torch.optim.lr_scheduler.CosineAnnealingLR(optimizer, epochs, 1e-8)\n",
    "total_accu = None\n",
    "train_iter, test_iter = AG_NEWS()\n",
    "train_dataset = to_map_style_dataset(train_iter)\n",
    "test_dataset = to_map_style_dataset(test_iter)\n",
    "num_train = int(len(train_dataset) * 0.95)\n",
    "split_train_, split_valid_ = random_split(\n",
    "    train_dataset, \n",
    "    [num_train, len(train_dataset) - num_train]\n",
    ")\n",
    "\n",
    "train_dataloader = DataLoader(\n",
    "    split_train_, batch_size=batch_size,\n",
    "    shuffle=True, collate_fn=collate_batch\n",
    ")\n",
    "\n",
    "valid_dataloader = DataLoader(\n",
    "    split_valid_, batch_size=batch_size, \n",
    "    shuffle=False, collate_fn=collate_batch\n",
    ")\n",
    "\n",
    "test_dataloader = DataLoader(\n",
    "    test_dataset, batch_size=batch_size,\n",
    "    shuffle=False, collate_fn=collate_batch\n",
    ")\n",
    "\n",
    "# You should be able get a validation accuracy around 87%\n",
    "for epoch in range(1, epochs + 1):\n",
    "    epoch_start_time = time.time()\n",
    "    train(model, train_dataloader, loss_func, device, 1)\n",
    "    accu_val = evaluate(model, valid_dataloader, loss_func, device)\n",
    "    if total_accu is not None and total_accu > accu_val:\n",
    "        scheduler.step()\n",
    "    else:\n",
    "        total_accu = accu_val\n",
    "    print('-' * 59)\n",
    "    print('| end of epoch {:3d} | time: {:5.2f}s | '\n",
    "          'valid accuracy {:8.3f} '.format(epoch,\n",
    "                                           time.time() - epoch_start_time,\n",
    "                                           accu_val))\n",
    "    print('-' * 59)"
   ]
  },
  {
   "cell_type": "markdown",
   "id": "e3582578",
   "metadata": {
    "id": "e3582578"
   },
   "source": [
    "## Part 2: Text Classification with Transformer Encoder (41 points)"
   ]
  },
  {
   "cell_type": "markdown",
   "id": "4db1190d",
   "metadata": {
    "id": "4db1190d"
   },
   "source": [
    "### <font size='4' color='red'>Task 2.1: Implement the multi-head attention module (no for loops allowed, 10 points)</font>"
   ]
  },
  {
   "cell_type": "code",
   "execution_count": 15,
   "id": "7d932295",
   "metadata": {
    "id": "7d932295"
   },
   "outputs": [],
   "source": [
    "class MultiHeadAttention(nn.Module):\n",
    "    \"\"\"\n",
    "    A module that computes multi-head attention given query, key, and value tensors.\n",
    "    \"\"\"\n",
    "    def __init__(self, input_dim: int, num_heads: int):\n",
    "        \"\"\"\n",
    "        Constructor.\n",
    "        \n",
    "        Inputs:\n",
    "        - input_dim: Dimension of the input query, key, and value. Here we assume they all have\n",
    "          the same dimensions. But they could have different dimensions in other problems.\n",
    "        - num_heads: Number of attention heads\n",
    "        \"\"\"\n",
    "        super(MultiHeadAttention, self).__init__()\n",
    "        \n",
    "        assert input_dim % num_heads == 0\n",
    "        \n",
    "        self.input_dim = input_dim\n",
    "        self.num_heads = num_heads\n",
    "        self.dim_per_head = input_dim // num_heads\n",
    "        \n",
    "        ###########################################################################\n",
    "        # TODO: Define the linear transformation layers for key, value, and query.#\n",
    "        # Also define the output layer.\n",
    "        ###########################################################################\n",
    "        self.key = nn.Linear(input_dim, input_dim)\n",
    "        self.value = nn.Linear(input_dim, input_dim)\n",
    "        self.query = nn.Linear(input_dim, input_dim)\n",
    "        self.output = nn.Linear(input_dim, input_dim)\n",
    "        \n",
    "        #raise NotImplementedError\n",
    "        ###########################################################################\n",
    "        #                             END OF YOUR CODE                            #\n",
    "        ###########################################################################\n",
    "        \n",
    "        \n",
    "    def forward(self, query: torch.Tensor, key: torch.Tensor, value: torch.Tensor, mask: torch.Tensor=None):\n",
    "        \"\"\"\n",
    "        Compute the attended feature representations.\n",
    "        \n",
    "        Inputs:\n",
    "        - query: Tensor of the shape BxLxC, where B is the batch size, L is the sequence length,\n",
    "          and C is the channel dimension\n",
    "        - key: Tensor of the shape BxLxC\n",
    "        - value: Tensor of the shape BxLxC\n",
    "        - mask: Tensor indicating where the attention should *not* be performed\n",
    "        \"\"\"\n",
    "        b = query.shape[0]        \n",
    "        \n",
    "        dot_prod_scores = None\n",
    "        ###########################################################################\n",
    "        # TODO: Compute the scores based on dot product between transformed query,#\n",
    "        # key, and value. You may find torch.matmul helpful, whose documentation  #\n",
    "        # can be found at                                                         #\n",
    "        # https://pytorch.org/docs/stable/generated/torch.matmul.html#torch.matmul#\n",
    "        # Remember to devide the doct product similarity scores by square root of #\n",
    "        # the channel dimension per head.   \n",
    "        #                                                                         #\n",
    "        # Since no for loops are allowed here, think of how to use tensor reshape #\n",
    "        # to process multiple attention heads at the same time.                   #\n",
    "        ###########################################################################\n",
    "        B, Lq, Cq = query.shape\n",
    "        B, Lk, Ck = key.shape\n",
    "        B, Lv, Cv = value.shape\n",
    "        \n",
    "        query = self.query(query) # [B*L*C]\n",
    "        key = self.key(key)\n",
    "        value = self.value(value)\n",
    "            \n",
    "        H = self.num_heads\n",
    "        D = self.dim_per_head\n",
    "              \n",
    "        query_reshape = torch.permute(torch.reshape(query, (B, Lq, H, D)), (0, 2, 1, 3)) #[B*H*L*D]  \n",
    "        key_reshape = torch.permute(torch.reshape(key, (B, Lk, H, D)), (0, 2, 1, 3))\n",
    "        value_reshape = torch.permute(torch.reshape(value, (B, Lv, H, D)), (0, 2, 1, 3))\n",
    "        \n",
    "        key_transpose = torch.transpose(key_reshape, 2, 3) #[B*H*D*L]\n",
    "        \n",
    "        similiarity = torch.matmul(query_reshape, key_transpose)/math.sqrt(D) #[B*H*L*D]*[B*H*D*L] = [B*H*L*L]\n",
    "        dot_prod_scores = nn.functional.softmax(similiarity, dim = -1) #nn.Softmax(dim = -1)(similiarity) #[B*H*L*L]\n",
    "        \n",
    "               \n",
    "        #raise NotImplementedError\n",
    "        ###########################################################################\n",
    "        #                             END OF YOUR CODE                            #\n",
    "        ###########################################################################\n",
    "        \n",
    "        if mask is not None:\n",
    "            # We simply set the similarity scores to be near zero for the positions\n",
    "            # where the attention should not be done. Think of why we do this.\n",
    "            dot_prod_scores = dot_prod_scores.masked_fill(mask == 0, -1e9)\n",
    "        \n",
    "        out = None\n",
    "        ###########################################################################\n",
    "        # TODO: Compute the attention scores, which are then used to modulate the #\n",
    "        # value tensor. Finally concate the attended tensors from multiple heads  #\n",
    "        # and feed it into the output layer. You may still find torch.matmul      #\n",
    "        # helpful.                                                                #\n",
    "        #                                                                         #\n",
    "        # Again, think of how to use reshaping tensor to do the concatenation.    #\n",
    "        ###########################################################################\n",
    "        out = torch.matmul(dot_prod_scores, value_reshape) #[B*H*L*L] * [B*H*L*D] = [B*H*L*D]\n",
    "        out = torch.reshape(torch.permute(out, (0, 2, 1, 3)), (B, Lq, Cq)) #[B*L*(H*D)] = [B*L*C]\n",
    "        out = self.output(out)\n",
    "        \n",
    "        #raise NotImplementedError\n",
    "        ###########################################################################\n",
    "        #                             END OF YOUR CODE                            #\n",
    "        ###########################################################################\n",
    "        \n",
    "        return out"
   ]
  },
  {
   "cell_type": "code",
   "execution_count": 16,
   "id": "c5bd2c45",
   "metadata": {
    "id": "c5bd2c45"
   },
   "outputs": [
    {
     "name": "stdout",
     "output_type": "stream",
     "text": [
      "torch.Size([2, 10, 8])\n"
     ]
    }
   ],
   "source": [
    "x = torch.randn((2, 10, 8))\n",
    "mask = torch.randn((2, 10)) > 0.5\n",
    "mask = mask.unsqueeze(1).unsqueeze(-1)\n",
    "num_heads = 4\n",
    "model = MultiHeadAttention(8, num_heads)\n",
    "y = model(x, x, x, mask)\n",
    "assert len(y.shape) == len(x.shape)\n",
    "for dim_x, dim_y in zip(x.shape, y.shape):\n",
    "    assert dim_x == dim_y\n",
    "print(y.shape)"
   ]
  },
  {
   "cell_type": "markdown",
   "id": "02379104",
   "metadata": {
    "id": "02379104"
   },
   "source": [
    "### <font size='4' color='red'>Task 2.2: Implement a Feedforward Network (3 points)</font>"
   ]
  },
  {
   "cell_type": "code",
   "execution_count": 17,
   "id": "5b7083ff",
   "metadata": {
    "id": "5b7083ff"
   },
   "outputs": [],
   "source": [
    "class FeedForwardNetwork(nn.Module):\n",
    "    \"\"\"\n",
    "    A simple feedforward network. Essentially, it is a two-layer fully-connected\n",
    "    neural network.\n",
    "    \"\"\"\n",
    "    def __init__(self, input_dim, ff_dim, dropout):\n",
    "        \"\"\"\n",
    "        Inputs:\n",
    "        - input_dim: Input dimension\n",
    "        - ff_dim: Hidden dimension\n",
    "        \"\"\"\n",
    "        super(FeedForwardNetwork, self).__init__()\n",
    "        \n",
    "        ###########################################################################\n",
    "        # TODO: Define the two linear layers and a non-linear one.\n",
    "        ###########################################################################\n",
    "        self.linear1 = nn.Linear(input_dim, ff_dim)\n",
    "        self.linear2 = nn.Linear(ff_dim, input_dim)\n",
    "        self.nonlinear = nn.ReLU()\n",
    "        self.dropout = nn.Dropout(p = dropout)\n",
    "        \n",
    "        #raise NotImplementedError\n",
    "        ###########################################################################\n",
    "        #                             END OF YOUR CODE                            #\n",
    "        ###########################################################################\n",
    "        \n",
    "    def forward(self, x: torch.Tensor):\n",
    "        \"\"\"\n",
    "        Input:\n",
    "        - x: Tensor of the shape BxLxC, where B is the batch size, L is the sequence length,\n",
    "         and C is the channel dimension\n",
    "          \n",
    "        Return:\n",
    "        - y: Tensor of the shape BxLxC\n",
    "        \"\"\"\n",
    "        \n",
    "        y = None\n",
    "        ###########################################################################\n",
    "        # TODO: Process the input.                                                #\n",
    "        ###########################################################################\n",
    "        y = self.linear1(x)\n",
    "        y = self.nonlinear(y)\n",
    "        y = self.dropout(y)\n",
    "        y = self.linear2(y)\n",
    "        \n",
    "        #print(y.shape)\n",
    "        #raise NotImplementedError\n",
    "        ###########################################################################\n",
    "        #                             END OF YOUR CODE                            #\n",
    "        ###########################################################################\n",
    "        \n",
    "        return y\n",
    "        "
   ]
  },
  {
   "cell_type": "code",
   "execution_count": 18,
   "id": "1671c24f",
   "metadata": {
    "id": "1671c24f"
   },
   "outputs": [
    {
     "name": "stdout",
     "output_type": "stream",
     "text": [
      "torch.Size([2, 10, 8])\n"
     ]
    }
   ],
   "source": [
    "x = torch.randn((2, 10, 8))\n",
    "ff_dim = 4\n",
    "model = FeedForwardNetwork(8, ff_dim, 0.1)\n",
    "y = model(x)\n",
    "assert len(x.shape) == len(y.shape)\n",
    "for dim_x, dim_y in zip(x.shape, y.shape):\n",
    "    assert dim_x == dim_y\n",
    "print(y.shape)"
   ]
  },
  {
   "cell_type": "markdown",
   "id": "daa64217",
   "metadata": {
    "id": "daa64217"
   },
   "source": [
    "### <font size='4' color='red'>Task 2.3: Implement a Single Transformer Encoder Cell (8 points)</font>"
   ]
  },
  {
   "cell_type": "code",
   "execution_count": 19,
   "id": "c5aca2a1",
   "metadata": {
    "id": "c5aca2a1"
   },
   "outputs": [],
   "source": [
    "class TransformerEncoderCell(nn.Module):\n",
    "    \"\"\"\n",
    "    A single cell (unit) for the Transformer encoder.\n",
    "    \"\"\"\n",
    "    def __init__(self, input_dim: int, num_heads: int, ff_dim: int, dropout: float):\n",
    "        \"\"\"\n",
    "        Inputs:\n",
    "        - input_dim: Input dimension for each token in a sequence\n",
    "        - num_heads: Number of attention heads in a multi-head attention module\n",
    "        - ff_dim: The hidden dimension for a feedforward network\n",
    "        - dropout: Dropout ratio for the output of the multi-head attention and feedforward\n",
    "          modules.\n",
    "        \"\"\"\n",
    "        super(TransformerEncoderCell, self).__init__()\n",
    "        \n",
    "        ###########################################################################\n",
    "        # TODO: A single Transformer encoder cell consists of \n",
    "        # 1. A multi-head attention module\n",
    "        # 2. Followed by dropout\n",
    "        # 3. Followed by layer norm (check nn.LayerNorm)\n",
    "        # https://pytorch.org/docs/stable/generated/torch.nn.LayerNorm.html#torch.nn.LayerNorm\n",
    "        #                                                                         #\n",
    "        # At the same time, it also has\n",
    "        # 1. A feedforward network\n",
    "        # 2. Followed by dropout\n",
    "        # 3. Followed by layer norm\n",
    "        ###########################################################################\n",
    "        self.multihead_att = MultiHeadAttention(input_dim, num_heads)\n",
    "        self.dropout1 = nn.Dropout(p = dropout)\n",
    "        self.dropout2 = nn.Dropout(p = dropout)\n",
    "        self.layernorm1 = nn.LayerNorm(input_dim)\n",
    "        self.layernorm2 = nn.LayerNorm(input_dim)\n",
    "        self.feedforward = FeedForwardNetwork(input_dim, ff_dim, dropout)\n",
    "        \n",
    "        #raise NotImplementedError\n",
    "        ###########################################################################\n",
    "        #                             END OF YOUR CODE                            #\n",
    "        ###########################################################################\n",
    "        \n",
    "    def forward(self, x: torch.Tensor, mask: torch.Tensor=None):\n",
    "        \"\"\"\n",
    "        Inputs:\n",
    "        - x: Tensor of the shape BxLxC, where B is the batch size, L is the sequence length,\n",
    "          and C is the channel dimension\n",
    "        - mask: Tensor for multi-head attention\n",
    "        \"\"\"\n",
    "        \n",
    "        y = None\n",
    "        ###########################################################################\n",
    "        # TODO: Get the output of the multi-head attention part (with dropout     #\n",
    "        # and layer norm), which is used as input to the feedforward network (    #\n",
    "        # again, followed by dropout and layer norm).                             #\n",
    "        #                                                                         #\n",
    "        # Don't forget the residual connections for both parts.                   #\n",
    "        ###########################################################################\n",
    "        \n",
    "        att = self.multihead_att(x, x, x, mask)\n",
    "        att = self.dropout1(att)\n",
    "        out = self.layernorm1(att + x)\n",
    "        #print(out.shape)\n",
    "        \n",
    "        ff_out = self.feedforward(out)\n",
    "        ff_out = self.dropout2(ff_out)\n",
    "        y = self.layernorm2(ff_out + out)\n",
    "        \n",
    "        \n",
    "        #raise NotImplementedError\n",
    "        ###########################################################################\n",
    "        #                             END OF YOUR CODE                            #\n",
    "        ###########################################################################\n",
    "        \n",
    "        return y"
   ]
  },
  {
   "cell_type": "code",
   "execution_count": 20,
   "id": "77e4fcff",
   "metadata": {
    "id": "77e4fcff"
   },
   "outputs": [
    {
     "name": "stdout",
     "output_type": "stream",
     "text": [
      "torch.Size([2, 10, 8])\n"
     ]
    }
   ],
   "source": [
    "x = torch.randn((2, 10, 8))\n",
    "mask = torch.randn((2, 10)) > 0.5\n",
    "mask = mask.unsqueeze(1).unsqueeze(-1)\n",
    "num_heads = 4\n",
    "model = TransformerEncoderCell(8, num_heads, 32, 0.1)\n",
    "y = model(x, mask)\n",
    "assert len(x.shape) == len(y.shape)\n",
    "for dim_x, dim_y in zip(x.shape, y.shape):\n",
    "    assert dim_x == dim_y\n",
    "print(y.shape)"
   ]
  },
  {
   "cell_type": "markdown",
   "id": "b0944cd8",
   "metadata": {
    "id": "b0944cd8"
   },
   "source": [
    "### <font size='4' color='red'>Task 2.4: Implement Transformer Encoder (5 points)</font>"
   ]
  },
  {
   "cell_type": "code",
   "execution_count": 21,
   "id": "f72b398a",
   "metadata": {
    "id": "f72b398a",
    "tags": []
   },
   "outputs": [],
   "source": [
    "class TransformerEncoder(nn.Module):\n",
    "    \"\"\"\n",
    "    A full encoder consisting of a set of TransformerEncoderCell.\n",
    "    \"\"\"\n",
    "    def __init__(self, input_dim: int, num_heads: int, ff_dim: int, num_cells: int, dropout: float=0.1):\n",
    "        \"\"\"\n",
    "        Inputs:\n",
    "        - input_dim: Input dimension for each token in a sequence\n",
    "        - num_heads: Number of attention heads in a multi-head attention module\n",
    "        - ff_dim: The hidden dimension for a feedforward network\n",
    "        - num_cells: Number of TransformerEncoderCells\n",
    "        - dropout: Dropout ratio for the output of the multi-head attention and feedforward\n",
    "          modules.\n",
    "        \"\"\"\n",
    "        super(TransformerEncoder, self).__init__()\n",
    "        \n",
    "        self.norm = None\n",
    "        ###########################################################################\n",
    "        # TODO: Construct a nn.ModuleList to store a stack of                     #\n",
    "        # TranformerEncoderCells. Check the documentation here of how to use it   #\n",
    "        # https://pytorch.org/docs/stable/generated/torch.nn.ModuleList.html#torch.nn.ModuleList      \n",
    "        # At the same time, define a layer normalization layer to process the     #\n",
    "        # output of the entire encoder.                                           #\n",
    "        ###########################################################################\n",
    "        \n",
    "        self.num_cells = num_cells\n",
    "        \n",
    "        #trans_encoder_cell = TransformerEncoderCell(input_dim, num_heads, ff_dim, dropout)   \n",
    "        self.transformerencoder = nn.ModuleList([TransformerEncoderCell(input_dim, num_heads, ff_dim, dropout) for i in range(num_cells)])\n",
    "        self.layernorm = nn.LayerNorm(input_dim)\n",
    "        \n",
    "        \n",
    "        #raise NotImplementedError\n",
    "        ###########################################################################\n",
    "        #                             END OF YOUR CODE                            #\n",
    "        ###########################################################################\n",
    "        \n",
    "    def forward(self, x: torch.Tensor, mask: torch.Tensor=None):\n",
    "        \"\"\"\n",
    "        Inputs:\n",
    "        - x: Tensor of the shape BxLxC, where B is the batch size, L is the sequence length,\n",
    "          and C is the channel dimension\n",
    "        - mask: Tensor for multi-head attention\n",
    "        \n",
    "        Return:\n",
    "        - y: Tensor of the shape of BxLxC, which is the normalized output of the encoder\n",
    "        \"\"\"\n",
    "        \n",
    "        y = None\n",
    "        ###########################################################################\n",
    "        # TODO: Feed x into the stack of TransformerEncoderCells and then         #\n",
    "        # normalize the output with layer norm.                                   #\n",
    "        ###########################################################################\n",
    "        \n",
    "        y = x.clone() #x\n",
    "        for i in range(self.num_cells):                 \n",
    "            y = self.transformerencoder[i](y, mask)\n",
    "            \n",
    "        y = self.layernorm(y)\n",
    "        \n",
    "        #raise NotImplementedError\n",
    "        ###########################################################################\n",
    "        #                             END OF YOUR CODE                            #\n",
    "        ###########################################################################\n",
    "        \n",
    "        return y\n",
    "        "
   ]
  },
  {
   "cell_type": "code",
   "execution_count": 22,
   "id": "64ddad9c",
   "metadata": {
    "id": "64ddad9c"
   },
   "outputs": [
    {
     "name": "stdout",
     "output_type": "stream",
     "text": [
      "torch.Size([2, 10, 8])\n"
     ]
    }
   ],
   "source": [
    "x = torch.randn((2, 10, 8))\n",
    "mask = torch.randn((2, 10)) > 0.5\n",
    "mask = mask.unsqueeze(1).unsqueeze(-1)\n",
    "num_heads = 4\n",
    "model = TransformerEncoder(8, num_heads, 32, 2, 0.1)\n",
    "y = model(x)\n",
    "assert len(x.shape) == len(y.shape)\n",
    "for dim_x, dim_y in zip(x.shape, y.shape):\n",
    "    assert dim_x == dim_y\n",
    "print(y.shape)"
   ]
  },
  {
   "cell_type": "markdown",
   "id": "b4c4330c",
   "metadata": {
    "id": "b4c4330c"
   },
   "source": [
    "### <font size='4' color='red'>Task 2.5: Implement Positional Encoding (7 points)</font>"
   ]
  },
  {
   "cell_type": "code",
   "execution_count": 23,
   "id": "52b5ff70",
   "metadata": {
    "id": "52b5ff70"
   },
   "outputs": [],
   "source": [
    "class PositionalEncoding(nn.Module):\n",
    "    \"\"\"\n",
    "    A module that adds positional encoding to each of the token's features.\n",
    "    So that the Transformer is position aware.\n",
    "    \"\"\"\n",
    "    def __init__(self, input_dim: int, max_len: int=10000):\n",
    "        \"\"\"\n",
    "        Inputs:\n",
    "        - input_dim: Input dimension about the features for each token\n",
    "        - max_len: The maximum sequence length\n",
    "        \"\"\"\n",
    "        super(PositionalEncoding, self).__init__()\n",
    "        \n",
    "        self.input_dim = input_dim\n",
    "        self.max_len = max_len\n",
    "        \n",
    "    def forward(self, x):\n",
    "        \"\"\"\n",
    "        Compute the positional encoding and add it to x.\n",
    "        \n",
    "        Input:\n",
    "        - x: Tensor of the shape BxLxC, where B is the batch size, L is the sequence length,\n",
    "          and C is the channel dimension\n",
    "          \n",
    "        Return:\n",
    "        - x: Tensor of the shape BxLxC, with the positional encoding added to the input\n",
    "        \"\"\"\n",
    "        seq_len = x.shape[1]\n",
    "        input_dim = x.shape[2]\n",
    "        \n",
    "        pe = None\n",
    "        ###########################################################################\n",
    "        # TODO: Compute the positional encoding                                   #\n",
    "        # Check Section 3.5 for the definition (https://arxiv.org/pdf/1706.03762.pdf)\n",
    "        #                                                                         #\n",
    "        # It's a bit messy, but the definition is provided for your here for your #\n",
    "        # convenience (in LaTex).                                                 #\n",
    "        # PE_{(pos,2i)} = sin(pos / 10000^{2i/\\dmodel})                           #\n",
    "        # PE_{(pos,2i+1)} = cos(pos / 10000^{2i/\\dmodel})                         #\n",
    "        #                                                                         #\n",
    "        # You should replace 10000 with max_len here.\n",
    "        ###########################################################################\n",
    "        \n",
    "        pos = torch.arange(0, seq_len)\n",
    "        \n",
    "        pe = torch.Tensor(x.shape[1],x.shape[2])\n",
    "        #print(input_dim)\n",
    "        for ii in range(0, input_dim//2):\n",
    "            #print(2*ii, 2*ii+1)\n",
    "            #print(torch.sin(pos/(self.max_len**(2*ii/input_dim))).shape)\n",
    "            pe[:, 2*ii] = torch.sin(pos/(self.max_len**(2*ii/input_dim)))\n",
    "            pe[:, 2*ii+1] = torch.cos(pos/(self.max_len**(2*ii/input_dim)))\n",
    "        \n",
    "        #print(pe)\n",
    "        pe = torch.unsqueeze(pe,0)\n",
    "        #raise NotImplementedError\n",
    "        ###########################################################################\n",
    "        #                             END OF YOUR CODE                            #\n",
    "        ###########################################################################\n",
    "        \n",
    "        x = x + pe.to(x.device)\n",
    "        return x"
   ]
  },
  {
   "cell_type": "code",
   "execution_count": 24,
   "id": "6d1d76c1",
   "metadata": {
    "id": "6d1d76c1"
   },
   "outputs": [],
   "source": [
    "# Sanity check\n",
    "x = torch.randn(1, 100, 20)\n",
    "pe = PositionalEncoding(20)\n",
    "y = pe(x)\n",
    "assert len(x.shape) == len(y.shape)\n",
    "for dim_x, dim_y in zip(x.shape, y.shape):\n",
    "    assert dim_x == dim_y"
   ]
  },
  {
   "cell_type": "code",
   "execution_count": 25,
   "id": "5a34a7de",
   "metadata": {
    "id": "5a34a7de"
   },
   "outputs": [
    {
     "data": {
      "text/plain": [
       "<matplotlib.legend.Legend at 0x7f9440493d60>"
      ]
     },
     "execution_count": 25,
     "metadata": {},
     "output_type": "execute_result"
    },
    {
     "data": {
      "image/png": "[encoded data removed]",
      "text/plain": [
       "<Figure size 1500x500 with 1 Axes>"
      ]
     },
     "metadata": {},
     "output_type": "display_data"
    }
   ],
   "source": [
    "%matplotlib inline\n",
    "import matplotlib.pyplot as plt\n",
    "import numpy as np\n",
    "\n",
    "plt.figure(figsize=(15, 5))\n",
    "pe = PositionalEncoding(20)\n",
    "y = pe.forward((torch.zeros(1, 100, 20)))\n",
    "plt.plot(np.arange(100), y[0, :, 4:8].data.numpy())\n",
    "plt.legend([\"dim %d\"%p for p in [4,5,6,7]])"
   ]
  },
  {
   "cell_type": "markdown",
   "id": "403b5eb6",
   "metadata": {
    "id": "403b5eb6"
   },
   "source": [
    "### <font size='4' color='red'>Task 2.6: Implement a Transformer-based Text Classifier (5 points)</font>"
   ]
  },
  {
   "cell_type": "code",
   "execution_count": 33,
   "id": "ea75af7f",
   "metadata": {
    "id": "ea75af7f"
   },
   "outputs": [],
   "source": [
    "class TransformerClassifier(nn.Module):\n",
    "    \"\"\"\n",
    "    A Transformer-based text classifier.\n",
    "    \"\"\"\n",
    "    def __init__(self, \n",
    "            vocab_size: int, embed_dim: int, num_heads: int, trx_ff_dim: int, \n",
    "            num_trx_cells: int, num_class: int, dropout: float=0.1, pad_token: int=0\n",
    "        ):\n",
    "        \"\"\"\n",
    "        Inputs:\n",
    "        - vocab_size: Vocabulary size, indicating how many tokens we have in total.\n",
    "        - embed_dim: The dimension of word embeddings\n",
    "        - num_heads: Number of attention heads in a multi-head attention module\n",
    "        - trx_ff_dim: The hidden dimension for a feedforward network\n",
    "        - num_trx_cells: Number of TransformerEncoderCells\n",
    "        - dropout: Dropout ratio\n",
    "        - pad_token: The index of the padding token.\n",
    "        \"\"\"\n",
    "        super(TransformerClassifier, self).__init__()\n",
    "        \n",
    "        self.embed_dim = embed_dim\n",
    "        \n",
    "        # word embedding layer\n",
    "        self.embedding = nn.Embedding(vocab_size, embed_dim, padding_idx=pad_token)\n",
    "        \n",
    "        ###########################################################################\n",
    "        # TODO: Define a module for positional encoding, Transformer encoder, and #\n",
    "        # a output layer                                                          #\n",
    "        ###########################################################################\n",
    "        \n",
    "        self.posencoding = PositionalEncoding(embed_dim)\n",
    "        self.transencoder = TransformerEncoder(embed_dim, num_heads, trx_ff_dim, num_trx_cells, dropout)\n",
    "        self.output = nn.Linear(embed_dim, num_class)\n",
    "        \n",
    "        #raise NotImplementedError\n",
    "        ###########################################################################\n",
    "        #                             END OF YOUR CODE                            #\n",
    "        ###########################################################################\n",
    "\n",
    "    def forward(self, text, mask=None):\n",
    "        \"\"\"\n",
    "        Inputs:\n",
    "        - text: Tensor with the shape of BxLxC.\n",
    "        - mask: Tensor for multi-head attention\n",
    "        \n",
    "        Return:\n",
    "        - logits: Tensor with the shape of BxK, where K is the number of classes\n",
    "        \"\"\"\n",
    "        \n",
    "        # word embeddings, note we multiple the embeddings by a factor\n",
    "        embedded = self.embedding(text) * math.sqrt(self.embed_dim) #[B*L*D]\n",
    "        \n",
    "        logits = None\n",
    "        ###########################################################################\n",
    "        # TODO: Apply positional embedding to the input, which is then fed into   #\n",
    "        # the encoder. Average pooling is applied then to all the features of all #\n",
    "        # tokens. Finally, the logits are computed based on the pooled features.  #\n",
    "        ###########################################################################\n",
    "        out = self.posencoding(embedded) #[B*L*D] D:embed_dim\n",
    "        out = self.transencoder(out, mask) #[B*L*D]\n",
    "        \n",
    "        out = torch.mean(out, 1) #Avg pooling [B*D]\n",
    "        #print(out.shape)\n",
    "        #out = nn.AvgPool1d(self.embed_dim)(out)\n",
    "        logits = self.output(out) #[B*K]\n",
    "        #print(logits.shape)\n",
    "        \n",
    "        #raise NotImplementedError\n",
    "        ###########################################################################\n",
    "        #                             END OF YOUR CODE                            #\n",
    "        ###########################################################################\n",
    "        \n",
    "        return logits"
   ]
  },
  {
   "cell_type": "code",
   "execution_count": 34,
   "id": "5e926e90",
   "metadata": {
    "id": "5e926e90"
   },
   "outputs": [
    {
     "name": "stdout",
     "output_type": "stream",
     "text": [
      "x: torch.Size([2, 10]), mask: torch.Size([2, 1, 1, 10])\n",
      "torch.Size([2, 3])\n"
     ]
    }
   ],
   "source": [
    "vocab_size = 10\n",
    "embed_dim = 16\n",
    "num_heads = 4\n",
    "trx_ff_dim = 16\n",
    "num_trx_cells = 2\n",
    "num_class = 3\n",
    "\n",
    "x = torch.arange(vocab_size).view(1, -1)\n",
    "x = torch.cat((x, x), dim=0)\n",
    "mask = (x != 0).unsqueeze(-2).unsqueeze(1)\n",
    "model = TransformerClassifier(vocab_size, embed_dim, num_heads, trx_ff_dim, num_trx_cells, num_class)\n",
    "print('x: {}, mask: {}'.format(x.shape, mask.shape))\n",
    "y = model(x, mask)\n",
    "assert len(y.shape) == 2 and y.shape[0] == x.shape[0] and y.shape[1] == num_class\n",
    "print(y.shape)"
   ]
  },
  {
   "cell_type": "markdown",
   "id": "8c1f02fc",
   "metadata": {
    "id": "8c1f02fc"
   },
   "source": [
    "### <font size='4' color='red'>Task 2.7: Define the Model and Loss Function (3 points)</font>"
   ]
  },
  {
   "cell_type": "code",
   "execution_count": 35,
   "id": "46bd5779",
   "metadata": {
    "id": "46bd5779"
   },
   "outputs": [
    {
     "name": "stdout",
     "output_type": "stream",
     "text": [
      "| epoch   1 |   500/ 1782 batches | accuracy    0.642\n",
      "| epoch   1 |  1000/ 1782 batches | accuracy    0.790\n",
      "| epoch   1 |  1500/ 1782 batches | accuracy    0.827\n",
      "-----------------------------------------------------------\n",
      "| end of epoch   1 | time: 24.87s | valid accuracy    0.847 \n",
      "-----------------------------------------------------------\n",
      "| epoch   2 |   500/ 1782 batches | accuracy    0.863\n",
      "| epoch   2 |  1000/ 1782 batches | accuracy    0.872\n",
      "| epoch   2 |  1500/ 1782 batches | accuracy    0.881\n",
      "-----------------------------------------------------------\n",
      "| end of epoch   2 | time: 25.03s | valid accuracy    0.881 \n",
      "-----------------------------------------------------------\n",
      "| epoch   3 |   500/ 1782 batches | accuracy    0.899\n",
      "| epoch   3 |  1000/ 1782 batches | accuracy    0.901\n",
      "| epoch   3 |  1500/ 1782 batches | accuracy    0.900\n",
      "-----------------------------------------------------------\n",
      "| end of epoch   3 | time: 24.64s | valid accuracy    0.890 \n",
      "-----------------------------------------------------------\n",
      "| epoch   4 |   500/ 1782 batches | accuracy    0.917\n",
      "| epoch   4 |  1000/ 1782 batches | accuracy    0.915\n",
      "| epoch   4 |  1500/ 1782 batches | accuracy    0.915\n",
      "-----------------------------------------------------------\n",
      "| end of epoch   4 | time: 25.00s | valid accuracy    0.892 \n",
      "-----------------------------------------------------------\n",
      "| epoch   5 |   500/ 1782 batches | accuracy    0.927\n",
      "| epoch   5 |  1000/ 1782 batches | accuracy    0.928\n",
      "| epoch   5 |  1500/ 1782 batches | accuracy    0.925\n",
      "-----------------------------------------------------------\n",
      "| end of epoch   5 | time: 24.72s | valid accuracy    0.896 \n",
      "-----------------------------------------------------------\n"
     ]
    }
   ],
   "source": [
    "assert torch.cuda.is_available()\n",
    "# device = 'cuda'\n",
    "device = torch.device(\"cuda\" if torch.cuda.is_available() else \"cpu\")\n",
    "\n",
    "# Hyperparameters\n",
    "epochs = 5 # epoch\n",
    "lr = 0.0005  # learning rate\n",
    "batch_size = 64 # batch size for training\n",
    "  \n",
    "train_iter = AG_NEWS(split='train')\n",
    "num_class = len(set([label for (label, text) in train_iter]))\n",
    "#print(num_class)\n",
    "\n",
    "vocab_size = len(vocab)\n",
    "emsize = 64\n",
    "\n",
    "num_heads = 4\n",
    "num_trx_cells = 2\n",
    "\n",
    "gradient_norm_clip = 1\n",
    "\n",
    "###########################################################################\n",
    "# Define a Transformer-based text classifier and a loss function.         #\n",
    "###########################################################################\n",
    "\n",
    "model = TransformerClassifier(vocab_size = vocab_size, embed_dim = emsize, \n",
    "                              num_heads = num_heads, trx_ff_dim = emsize, \n",
    "                              num_trx_cells = num_trx_cells, num_class = num_class, \n",
    "                              dropout = 0.1, pad_token = PAD_TOKEN)\n",
    "\n",
    "loss_func = nn.CrossEntropyLoss()\n",
    "\n",
    "#raise NotImplementedError\n",
    "###########################################################################\n",
    "#                             END OF YOUR CODE                            #\n",
    "###########################################################################\n",
    "model = model.to(device)\n",
    "\n",
    "optimizer = torch.optim.AdamW(model.parameters(), lr=lr)\n",
    "scheduler = torch.optim.lr_scheduler.CosineAnnealingLR(optimizer, epochs, 1e-8)\n",
    "total_accu = None\n",
    "\n",
    "# You should be able to get a validation accuracy around 89%\n",
    "for epoch in range(1, epochs + 1):\n",
    "    epoch_start_time = time.time()\n",
    "    train(model, train_dataloader, loss_func, device, gradient_norm_clip)\n",
    "    accu_val = evaluate(model, valid_dataloader, loss_func, device)\n",
    "    if total_accu is not None and total_accu > accu_val:\n",
    "        scheduler.step()\n",
    "    else:\n",
    "        total_accu = accu_val\n",
    "    print('-' * 59)\n",
    "    print('| end of epoch {:3d} | time: {:5.2f}s | '\n",
    "          'valid accuracy {:8.3f} '.format(epoch,\n",
    "                                           time.time() - epoch_start_time,\n",
    "                                           accu_val))\n",
    "    print('-' * 59)"
   ]
  },
  {
   "cell_type": "markdown",
   "id": "fba2a914",
   "metadata": {
    "id": "fba2a914"
   },
   "source": [
    "## Part 3: Image Classification with Transformer (10 points)"
   ]
  },
  {
   "cell_type": "markdown",
   "id": "b8d670e6",
   "metadata": {
    "id": "b8d670e6"
   },
   "source": [
    "### <font size='4' color='red'>Task 3.1: Implement VisionTransformer for Image Classification (no flor loops are allowed, 7 points)</font>"
   ]
  },
  {
   "cell_type": "code",
   "execution_count": 36,
   "id": "87161192",
   "metadata": {
    "id": "87161192"
   },
   "outputs": [],
   "source": [
    "class VisionTransformerClassifier(nn.Module):\n",
    "    \"\"\"\n",
    "    In the model, we partition an image into non-overlapping patches. Each patch is treated as a token.\n",
    "    We can get a sequence of such tokens by flattening the patches. Each token's embeddings is the\n",
    "    flattened RGB pixel values. If the patch size is 4, then the embeddings' dimension is 4*4*3.\n",
    "    You can check this paper https://arxiv.org/pdf/2010.11929.pdf for reference.\n",
    "    \"\"\"\n",
    "    def __init__(self, \n",
    "            patch_size: int, num_heads: int, trx_ff_dim: int, \n",
    "            num_trx_cells: int, num_class: int, dropout: float=0.1\n",
    "        ):\n",
    "        \"\"\"\n",
    "        Inputs:\n",
    "        - patch_size: Size of the non-overlapping patches\n",
    "        - num_heads: Number of attention heads\n",
    "        - trx_ff_dim: Hidden dimension of the feedforward network in a Transformer encoder\n",
    "        - num_trx_cells: Number of TransformerEncoderCells \n",
    "        - num_class: Number of image classes\n",
    "        - dropout: Dropout ratio\n",
    "        \"\"\"\n",
    "        super(VisionTransformerClassifier, self).__init__()\n",
    "        \n",
    "        self.patch_size = patch_size\n",
    "        \n",
    "        ###########################################################################\n",
    "        # TODO: Define a TransformerEncoder that takens non-overlapping patches   #\n",
    "        # of an image as input and another output layer for classification.       #\n",
    "        #                                                                         #\n",
    "        # Intuitively, we need 2D positional encodings for each patch according to#\n",
    "        # its x and y coordinates. But this reference paper https://arxiv.org/pdf/2010.11929.pdf\n",
    "        # shows there is no significance difference on accuracies. It is bit      #\n",
    "        # weird. But you can simply use the 1D positional encoding you have       #\n",
    "        # implemented earlier. You can experiment with 2D positional encodings    #\n",
    "        # if you like to earn extra credits.                                      #\n",
    "        ###########################################################################\n",
    "        embeeding_size = 3*patch_size*patch_size\n",
    "        self.posencoding = PositionalEncoding(embeeding_size)\n",
    "        self.transencoder = TransformerEncoder(embeeding_size, num_heads, trx_ff_dim, num_trx_cells, dropout)\n",
    "        self.output = nn.Linear(embeeding_size, num_class)\n",
    "        \n",
    "        #raise NotImplementedError\n",
    "        ###########################################################################\n",
    "        #                             END OF YOUR CODE                            #\n",
    "        ###########################################################################\n",
    "\n",
    "#     def init_weights(self):\n",
    "#         initrange = 0.5\n",
    "#         self.embedding.weight.data.uniform_(-initrange, initrange)\n",
    "#         self.fc.weight.data.uniform_(-initrange, initrange)\n",
    "#         self.fc.bias.data.zero_()\n",
    "\n",
    "    def forward(self, image: torch.Tensor):\n",
    "        \"\"\"\n",
    "        Input:\n",
    "        - image: Tensor of the shape BxCxHxW, where H and W are the height and width, respectively.\n",
    "        \n",
    "        Return:\n",
    "        - logtis: Classification logits\n",
    "        \"\"\"\n",
    "        \n",
    "        b, c, h, w = image.shape\n",
    "        \n",
    "        ###########################################################################\n",
    "        # TODO: Partition an image into non-overlapping patches. Think of how to  #\n",
    "        # reshape the tensor to convert it to be the BxLxC format, which we have  #\n",
    "        # extensively used for NLP tasks. You may find tensor.permute helpful.    #\n",
    "        # Check documentation here https://pytorch.org/docs/stable/generated/torch.permute.html#torch.permute\n",
    "        ###########################################################################\n",
    "        D = (h//self.patch_size)* (w//self.patch_size)\n",
    "        L = c * self.patch_size * self.patch_size\n",
    "        \n",
    "        image_reshape = torch.reshape( torch.permute(image, (0, 2, 3, 1)), (b, D, L)) \n",
    "        \n",
    "        out = self.posencoding(image_reshape) #[B*L*C] D:embed_dim\n",
    "        out = self.transencoder(image_reshape) #[B*L*C]\n",
    "        \n",
    "        out = torch.mean(out, 1) #Avg pooling [B*C]\n",
    "        logits = self.output(out) #[B*K]\n",
    "        \n",
    "        \n",
    "        \n",
    "        #raise NotImplementedError\n",
    "        ###########################################################################\n",
    "        #                             END OF YOUR CODE                            #\n",
    "        ###########################################################################\n",
    "        \n",
    "        return logits"
   ]
  },
  {
   "cell_type": "code",
   "execution_count": 37,
   "id": "1c0a5642",
   "metadata": {
    "id": "1c0a5642"
   },
   "outputs": [
    {
     "name": "stdout",
     "output_type": "stream",
     "text": [
      "torch.Size([2, 5])\n"
     ]
    }
   ],
   "source": [
    "# Sanity check\n",
    "image = torch.randn((2, 3, 32, 32))\n",
    "patch_size = 4\n",
    "num_heads = 4\n",
    "num_trx_cells = 2\n",
    "trx_ff_dim = 16\n",
    "dropout = 0.1\n",
    "num_class = 5\n",
    "\n",
    "vit = VisionTransformerClassifier(patch_size, num_heads, trx_ff_dim, num_trx_cells, num_class, dropout)\n",
    "logits = vit(image)\n",
    "assert len(logits.shape) == 2 and logits.shape[0] == image.shape[0] and logits.shape[1] == num_class\n",
    "print(logits.shape)"
   ]
  },
  {
   "cell_type": "markdown",
   "id": "966276ca",
   "metadata": {
    "id": "966276ca"
   },
   "source": [
    "### Prepare Data Loaders"
   ]
  },
  {
   "cell_type": "code",
   "execution_count": 38,
   "id": "b80c3d63",
   "metadata": {
    "id": "b80c3d63"
   },
   "outputs": [
    {
     "name": "stdout",
     "output_type": "stream",
     "text": [
      "[Errno 2] No such file or directory: '../datasets'\n",
      "/home/users/tracylin/Downloads\n",
      "--2023-04-01 16:09:13--  http://www.cs.toronto.edu/~kriz/cifar-10-python.tar.gz\n",
      "Resolving www.cs.toronto.edu (www.cs.toronto.edu)... 128.100.3.30\n",
      "Connecting to www.cs.toronto.edu (www.cs.toronto.edu)|128.100.3.30|:80... connected.\n",
      "HTTP request sent, awaiting response... 200 OK\n",
      "Length: 170498071 (163M) [application/x-gzip]\n",
      "Saving to: ‘cifar-10-python.tar.gz’\n",
      "\n",
      "cifar-10-python.tar 100%[===================>] 162.60M  52.2MB/s    in 3.3s    \n",
      "\n",
      "2023-04-01 16:09:18 (49.8 MB/s) - ‘cifar-10-python.tar.gz’ saved [170498071/170498071]\n",
      "\n",
      "cifar-10-batches-py/\n",
      "cifar-10-batches-py/data_batch_4\n",
      "cifar-10-batches-py/readme.html\n",
      "cifar-10-batches-py/test_batch\n",
      "cifar-10-batches-py/data_batch_3\n",
      "cifar-10-batches-py/batches.meta\n",
      "cifar-10-batches-py/data_batch_2\n",
      "cifar-10-batches-py/data_batch_5\n",
      "cifar-10-batches-py/data_batch_1\n"
     ]
    }
   ],
   "source": [
    "# let's download the data\n",
    "%cd ../datasets\n",
    "\n",
    "# 1 -- Linux \n",
    "# 2 -- MacOS\n",
    "# 3 -- Command Prompt on Windows\n",
    "# 4 -- manually downloading the data\n",
    "choice = 1\n",
    "\n",
    "\n",
    "if choice == 1:\n",
    "    # should work well on Linux and in Powershell on Windows\n",
    "    !wget http://www.cs.toronto.edu/~kriz/cifar-10-python.tar.gz\n",
    "elif choice == 2 or choice ==3:\n",
    "    # if wget is not available for you, try curl\n",
    "    # should work well on MacOS\n",
    "    !curl http://www.cs.toronto.edu/~kriz/cifar-10-python.tar.gz --output cifar-10-python.tar.gz\n",
    "else:\n",
    "    print('Please manually download the data from http://www.cs.toronto.edu/~kriz/cifar-10-python.tar.gz and put it under the datasets folder.')\n",
    "!tar -xzvf cifar-10-python.tar.gz\n",
    "\n",
    "if choice==3:\n",
    "    !del cifar-10-python.tar.gz\n",
    "else:\n",
    "    !rm cifar-10-python.tar.gz"
   ]
  },
  {
   "cell_type": "code",
   "execution_count": 39,
   "id": "724c00ec",
   "metadata": {
    "id": "724c00ec"
   },
   "outputs": [
    {
     "name": "stdout",
     "output_type": "stream",
     "text": [
      "('X_train: ', (49000, 3, 32, 32))\n",
      "('y_train: ', (49000,))\n",
      "('X_val: ', (1000, 3, 32, 32))\n",
      "('y_val: ', (1000,))\n",
      "('X_test: ', (1000, 3, 32, 32))\n",
      "('y_test: ', (1000,))\n"
     ]
    }
   ],
   "source": [
    "from six.moves import cPickle as pickle\n",
    "import numpy as np\n",
    "import os\n",
    "from imageio import imread\n",
    "import platform\n",
    "\n",
    "def load_pickle(f):\n",
    "    version = platform.python_version_tuple()\n",
    "    if version[0] == '2':\n",
    "        return  pickle.load(f)\n",
    "    elif version[0] == '3':\n",
    "        return  pickle.load(f, encoding='latin1')\n",
    "    raise ValueError(\"invalid python version: {}\".format(version))\n",
    "\n",
    "def load_CIFAR_batch(filename):\n",
    "    \"\"\" load single batch of cifar \"\"\"\n",
    "    with open(filename, 'rb') as f:\n",
    "        datadict = load_pickle(f)\n",
    "    X = datadict['data']\n",
    "    Y = datadict['labels']\n",
    "    X = X.reshape(10000, 3, 32, 32).transpose(0,2,3,1).astype(\"float\")\n",
    "    Y = np.array(Y)\n",
    "    return X, Y\n",
    "\n",
    "def load_CIFAR10(ROOT):\n",
    "    \"\"\" load all of cifar \"\"\"\n",
    "    xs = []\n",
    "    ys = []\n",
    "    for b in range(1,6):\n",
    "        f = os.path.join(ROOT, 'data_batch_%d' % (b, ))\n",
    "        X, Y = load_CIFAR_batch(f)\n",
    "        xs.append(X)\n",
    "        ys.append(Y)\n",
    "    Xtr = np.concatenate(xs)\n",
    "    Ytr = np.concatenate(ys)\n",
    "    del X, Y\n",
    "    Xte, Yte = load_CIFAR_batch(os.path.join(ROOT, 'test_batch'))\n",
    "    return Xtr, Ytr, Xte, Yte\n",
    "\n",
    "\n",
    "def get_CIFAR10_data(cifar10_dir, num_training=49000, num_validation=1000, num_test=1000,\n",
    "                     subtract_mean=True):\n",
    "    \"\"\"\n",
    "    Load the CIFAR-10 dataset from disk and perform preprocessing to prepare\n",
    "    it for classifiers. These are the same steps as we used for the SVM, but\n",
    "    condensed to a single function.\n",
    "    \"\"\"\n",
    "    # Load the raw CIFAR-10 data\n",
    "    X_train, y_train, X_test, y_test = load_CIFAR10(cifar10_dir)\n",
    "\n",
    "    # Subsample the data\n",
    "    mask = list(range(num_training, num_training + num_validation))\n",
    "    X_val = X_train[mask]\n",
    "    y_val = y_train[mask]\n",
    "    mask = list(range(num_training))\n",
    "    X_train = X_train[mask]\n",
    "    y_train = y_train[mask]\n",
    "    mask = list(range(num_test))\n",
    "    X_test = X_test[mask]\n",
    "    y_test = y_test[mask]\n",
    "\n",
    "    # Normalize the data: subtract the mean image\n",
    "    if subtract_mean:\n",
    "        mean_image = np.mean(X_train, axis=0)\n",
    "        X_train -= mean_image\n",
    "        X_val -= mean_image\n",
    "        X_test -= mean_image\n",
    "\n",
    "    # Transpose so that channels come first\n",
    "    X_train = X_train.transpose(0, 3, 1, 2).copy()\n",
    "    X_val = X_val.transpose(0, 3, 1, 2).copy()\n",
    "    X_test = X_test.transpose(0, 3, 1, 2).copy()\n",
    "\n",
    "    # Package data into a dictionary\n",
    "    return {\n",
    "      'X_train': X_train, 'y_train': y_train,\n",
    "      'X_val': X_val, 'y_val': y_val,\n",
    "      'X_test': X_test, 'y_test': y_test,\n",
    "    }\n",
    "\n",
    "# Split the data into train, val, and test sets. \n",
    "# Check the get_CIFAR10_data function for more details\n",
    "cifar10_dir = 'cifar-10-batches-py'\n",
    "data = get_CIFAR10_data(cifar10_dir)\n",
    "for k, v in list(data.items()):\n",
    "    print(('%s: ' % k, v.shape))"
   ]
  },
  {
   "cell_type": "code",
   "execution_count": 40,
   "id": "f770e8d3",
   "metadata": {
    "id": "f770e8d3"
   },
   "outputs": [
    {
     "name": "stdout",
     "output_type": "stream",
     "text": [
      "torch.Size([8, 3, 32, 32]) tensor([5, 9, 5, 4, 4, 7, 1, 3])\n",
      "torch.Size([8, 3, 32, 32]) tensor([4, 2, 2, 4, 7, 6, 7, 3])\n"
     ]
    }
   ],
   "source": [
    "from torch.utils.data.dataset import TensorDataset\n",
    "\n",
    "def make_dataloader(x, y, batch_size, is_train):\n",
    "    dataset = TensorDataset(\n",
    "        torch.from_numpy(y).long(),\n",
    "        torch.from_numpy(x).float() \n",
    "    )\n",
    "    dataloader = DataLoader(\n",
    "        dataset,\n",
    "        batch_size=batch_size,\n",
    "        shuffle=is_train,\n",
    "        num_workers=2,\n",
    "        drop_last=is_train\n",
    "    )\n",
    "    return dataloader\n",
    "    \n",
    "train_loader = make_dataloader(data['X_train'], data['y_train'], 8, True)\n",
    "for idx, (lab, im) in enumerate(train_loader):\n",
    "    if idx > 1:\n",
    "        break\n",
    "    print(im.shape, lab)"
   ]
  },
  {
   "cell_type": "markdown",
   "id": "570d32af",
   "metadata": {
    "id": "570d32af"
   },
   "source": [
    "### <font size='4' color='red'>Task 3.2: Define the Model and Loss Function (3 points)</font>"
   ]
  },
  {
   "cell_type": "code",
   "execution_count": 41,
   "id": "81f44a98",
   "metadata": {
    "id": "81f44a98"
   },
   "outputs": [
    {
     "name": "stdout",
     "output_type": "stream",
     "text": [
      "| epoch   1 |   500/ 3062 batches | accuracy    0.246\n",
      "| epoch   1 |  1000/ 3062 batches | accuracy    0.274\n",
      "| epoch   1 |  1500/ 3062 batches | accuracy    0.300\n",
      "| epoch   1 |  2000/ 3062 batches | accuracy    0.322\n",
      "| epoch   1 |  2500/ 3062 batches | accuracy    0.314\n",
      "| epoch   1 |  3000/ 3062 batches | accuracy    0.331\n",
      "-----------------------------------------------------------\n",
      "| end of epoch   1 | time: 31.59s | valid accuracy    0.332 \n",
      "-----------------------------------------------------------\n",
      "| epoch   2 |   500/ 3062 batches | accuracy    0.332\n",
      "| epoch   2 |  1000/ 3062 batches | accuracy    0.341\n",
      "| epoch   2 |  1500/ 3062 batches | accuracy    0.352\n",
      "| epoch   2 |  2000/ 3062 batches | accuracy    0.364\n",
      "| epoch   2 |  2500/ 3062 batches | accuracy    0.370\n",
      "| epoch   2 |  3000/ 3062 batches | accuracy    0.369\n",
      "-----------------------------------------------------------\n",
      "| end of epoch   2 | time: 31.74s | valid accuracy    0.365 \n",
      "-----------------------------------------------------------\n",
      "| epoch   3 |   500/ 3062 batches | accuracy    0.383\n",
      "| epoch   3 |  1000/ 3062 batches | accuracy    0.382\n",
      "| epoch   3 |  1500/ 3062 batches | accuracy    0.388\n",
      "| epoch   3 |  2000/ 3062 batches | accuracy    0.401\n",
      "| epoch   3 |  2500/ 3062 batches | accuracy    0.402\n",
      "| epoch   3 |  3000/ 3062 batches | accuracy    0.396\n",
      "-----------------------------------------------------------\n",
      "| end of epoch   3 | time: 32.16s | valid accuracy    0.395 \n",
      "-----------------------------------------------------------\n",
      "| epoch   4 |   500/ 3062 batches | accuracy    0.409\n",
      "| epoch   4 |  1000/ 3062 batches | accuracy    0.407\n",
      "| epoch   4 |  1500/ 3062 batches | accuracy    0.426\n",
      "| epoch   4 |  2000/ 3062 batches | accuracy    0.409\n",
      "| epoch   4 |  2500/ 3062 batches | accuracy    0.418\n",
      "| epoch   4 |  3000/ 3062 batches | accuracy    0.423\n",
      "-----------------------------------------------------------\n",
      "| end of epoch   4 | time: 31.75s | valid accuracy    0.387 \n",
      "-----------------------------------------------------------\n",
      "| epoch   5 |   500/ 3062 batches | accuracy    0.436\n",
      "| epoch   5 |  1000/ 3062 batches | accuracy    0.434\n",
      "| epoch   5 |  1500/ 3062 batches | accuracy    0.443\n",
      "| epoch   5 |  2000/ 3062 batches | accuracy    0.442\n",
      "| epoch   5 |  2500/ 3062 batches | accuracy    0.431\n",
      "| epoch   5 |  3000/ 3062 batches | accuracy    0.453\n",
      "-----------------------------------------------------------\n",
      "| end of epoch   5 | time: 32.02s | valid accuracy    0.436 \n",
      "-----------------------------------------------------------\n"
     ]
    }
   ],
   "source": [
    "patch_size = 4\n",
    "embed_dim = 128\n",
    "num_heads = 4\n",
    "trx_ff_dim = 128\n",
    "num_trx_cells = 2\n",
    "num_class = 10\n",
    "\n",
    "###########################################################################\n",
    "# TODO: Define the model and loss function\n",
    "###########################################################################\n",
    "\n",
    "model = VisionTransformerClassifier(patch_size = patch_size, num_heads = num_heads, \n",
    "                                    trx_ff_dim = trx_ff_dim, num_trx_cells = num_trx_cells,\n",
    "                                    num_class = num_class)\n",
    "\n",
    "\n",
    "loss_func = nn.CrossEntropyLoss() \n",
    "\n",
    "#raise NotImplementedError\n",
    "###########################################################################\n",
    "#                             END OF YOUR CODE                            #\n",
    "###########################################################################\n",
    "\n",
    "for p in model.parameters():\n",
    "    if p.dim() > 1:\n",
    "        nn.init.xavier_uniform_(p)\n",
    "model = model.to(device)\n",
    "\n",
    "batch_size = 16\n",
    "train_loader = make_dataloader(data['X_train'], data['y_train'], batch_size, True)\n",
    "val_loader = make_dataloader(data['X_test'], data['y_test'], batch_size, False)\n",
    "\n",
    "# Hyperparameters\n",
    "epochs = 5 # epoch\n",
    "lr = 0.001\n",
    "gradient_norm_clips = 0.1\n",
    "\n",
    "optimizer = torch.optim.AdamW(model.parameters(), lr=lr)\n",
    "scheduler = torch.optim.lr_scheduler.CosineAnnealingLR(optimizer, epochs, 1e-8)\n",
    "total_accu = None\n",
    "\n",
    "# You should be able to get an accuracy around 36%\n",
    "for epoch in range(1, epochs + 1):\n",
    "    epoch_start_time = time.time()\n",
    "    train(model, train_loader, loss_func, device, gradient_norm_clip)\n",
    "    accu_val = evaluate(model, val_loader, loss_func, device)\n",
    "    if total_accu is not None and total_accu > accu_val:\n",
    "        scheduler.step()\n",
    "    else:\n",
    "        total_accu = accu_val\n",
    "    print('-' * 59)\n",
    "    print('| end of epoch {:3d} | time: {:5.2f}s | '\n",
    "          'valid accuracy {:8.3f} '.format(epoch,\n",
    "                                           time.time() - epoch_start_time,\n",
    "                                           accu_val))\n",
    "    print('-' * 59)"
   ]
  },
  {
   "cell_type": "markdown",
   "id": "f0e6ea7e",
   "metadata": {
    "id": "f0e6ea7e"
   },
   "source": [
    "## Part 4: Machine Translation with Transformer (25 points)"
   ]
  },
  {
   "cell_type": "markdown",
   "id": "e6ad5d07",
   "metadata": {
    "id": "e6ad5d07"
   },
   "source": [
    "### <font size='4' color='red'>Task 4.1: Implement Transformer Decoder Cell (10 points)</font>"
   ]
  },
  {
   "cell_type": "code",
   "execution_count": 42,
   "id": "32619440",
   "metadata": {
    "id": "32619440"
   },
   "outputs": [],
   "source": [
    "class TransformerDecoderCell(nn.Module):\n",
    "    \"\"\"\n",
    "    A single cell (unit) of the Transformer decoder.\n",
    "    \"\"\"\n",
    "    def __init__(self, input_dim: int, num_heads: int, ff_dim: int, dropout: float=0.1):\n",
    "        \"\"\"\n",
    "        Inputs:\n",
    "        - input_dim: Input dimension for each token in a sequence\n",
    "        - num_heads: Number of attention heads in a multi-head attention module\n",
    "        - ff_dim: The hidden dimension for a feedforward network\n",
    "        - dropout: Dropout ratio for the output of the multi-head attention and feedforward\n",
    "          modules.\n",
    "        \"\"\"\n",
    "        super(TransformerDecoderCell, self).__init__()\n",
    "        \n",
    "        ###########################################################################\n",
    "        # TODO: Similar to the TransformerEncoderCell, define two                 #\n",
    "        # MultiHeadAttention modules. One for processing the tokens on the        # \n",
    "        # decoder side. The other for getting the attention across the encoder.   #\n",
    "        # and the decoder. Also define a feedforward network. Don't forget the    #\n",
    "        # Dropout and Layer Norm layers.                                          #\n",
    "        ###########################################################################\n",
    "        \n",
    "        self.selfattention = MultiHeadAttention(input_dim, num_heads)\n",
    "        self.crossattention = MultiHeadAttention(input_dim, num_heads)\n",
    "        self.feedforward = FeedForwardNetwork(input_dim, ff_dim, dropout)\n",
    "        \n",
    "        self.dropout1 = nn.Dropout(p = dropout)\n",
    "        self.dropout2 = nn.Dropout(p = dropout)\n",
    "        self.dropout3 = nn.Dropout(p = dropout)\n",
    "        self.layernorm1 = nn.LayerNorm(input_dim)\n",
    "        self.layernorm2 = nn.LayerNorm(input_dim)\n",
    "        self.layernorm3 = nn.LayerNorm(input_dim)\n",
    "        \n",
    "        #raise NotImplementedError\n",
    "        ###########################################################################\n",
    "        #                             END OF YOUR CODE                            #\n",
    "        ###########################################################################\n",
    "        \n",
    "    def forward(self, x: torch.Tensor, encoder_output: torch.Tensor, src_mask=None, tgt_mask=None):            \n",
    "        \"\"\"\n",
    "        Inputs: \n",
    "        - x: Tensor of BxLdxC, word embeddings on the decoder side\n",
    "        - encoder_output: Tensor of BxLexC, word embeddings on the encoder side\n",
    "        - src_mask: Tensor, masks of the tokens on the encoder side\n",
    "        - tgt_mask: Tensor, masks of the tokens on the decoder side\n",
    "        \n",
    "        Return:\n",
    "        - y: Tensor of BxLdxC. Attended features for all tokens on the decoder side.\n",
    "        \"\"\"\n",
    "        \n",
    "        y = None\n",
    "        ###########################################################################\n",
    "        # TODO: Compute the self-attended features for the tokens on the decoder  #\n",
    "        # side. Then compute the corss-attended features for the tokens on the    #\n",
    "        # decoder side to the encoded features, which are finally feed into the   #\n",
    "        # feedforward network                                                     #\n",
    "        ###########################################################################\n",
    "        self_atten_out = self.selfattention(x, x, x, tgt_mask)\n",
    "        self_atten_out = self.dropout1(self_atten_out)\n",
    "        self_atten_out = self.layernorm1(x + self_atten_out)\n",
    "        \n",
    "        corss_atten_out = self.crossattention(self_atten_out, encoder_output, encoder_output, src_mask)\n",
    "        corss_atten_out = self.dropout2(corss_atten_out)\n",
    "        corss_atten_out = self.layernorm2(self_atten_out + corss_atten_out)\n",
    "        \n",
    "        ff_out = self.feedforward(corss_atten_out)\n",
    "        ff_out = self.dropout3(ff_out)\n",
    "        ff_out = self.layernorm3(corss_atten_out + ff_out)\n",
    "        \n",
    "        y = ff_out\n",
    "        #raise NotImplementedError\n",
    "        ###########################################################################\n",
    "        #                             END OF YOUR CODE                            #\n",
    "        ###########################################################################\n",
    "        \n",
    "        return y"
   ]
  },
  {
   "cell_type": "code",
   "execution_count": 43,
   "id": "f1fe2ae8",
   "metadata": {
    "id": "f1fe2ae8"
   },
   "outputs": [
    {
     "name": "stdout",
     "output_type": "stream",
     "text": [
      "torch.Size([3, 10, 16])\n"
     ]
    }
   ],
   "source": [
    "dec_feats = torch.randn((3, 10, 16))\n",
    "dec_mask = torch.randn((3, 1, 10, 10)) > 0.5\n",
    "\n",
    "enc_feats = torch.randn((3, 12, 16))\n",
    "enc_mask = torch.randn((3, 1, 1, 12)) > 0.5\n",
    "\n",
    "model = TransformerDecoderCell(16, 2, 32, 0.1)\n",
    "z = model(dec_feats, enc_feats, enc_mask, dec_mask)\n",
    "assert len(z.shape) == len(dec_feats.shape)\n",
    "for dim_z, dim_x in zip(z.shape, dec_feats.shape):\n",
    "    assert dim_z == dim_x\n",
    "print(z.shape)"
   ]
  },
  {
   "cell_type": "markdown",
   "id": "36259c71",
   "metadata": {
    "id": "36259c71"
   },
   "source": [
    "### <font size='4' color='red'>Task 4.2: Implement Transformer Decoder (5 points)</font>"
   ]
  },
  {
   "cell_type": "code",
   "execution_count": 44,
   "id": "db0a3d21",
   "metadata": {
    "id": "db0a3d21"
   },
   "outputs": [],
   "source": [
    "class TransformerDecoder(nn.Module):\n",
    "    \"\"\"\n",
    "    A TransformerDecoder is a stack of multiple TransformerDecoderCells and a Layer Norm.\n",
    "    \"\"\"\n",
    "    def __init__(self, input_dim: int, num_heads: int, ff_dim: int, num_cells: int, dropout=0.1):\n",
    "        \"\"\"\n",
    "        Inputs:\n",
    "        - input_dim: Input dimension for each token in a sequence\n",
    "        - num_heads: Number of attention heads in a multi-head attention module\n",
    "        - ff_dim: The hidden dimension for a feedforward network\n",
    "        - num_cells: How many TransformerDecoderCells in stack\n",
    "        - dropout: Dropout ratio for the output of the multi-head attention and feedforward\n",
    "          modules.\n",
    "        \"\"\"\n",
    "        super(TransformerDecoder, self).__init__()\n",
    "        \n",
    "        ###########################################################################\n",
    "        # TODO: Construct a nn.ModuleList to store a stack of                     #\n",
    "        # TranformerDecoderCells. Check the documentation here of how to use it   #\n",
    "        # https://pytorch.org/docs/stable/generated/torch.nn.ModuleList.html#torch.nn.ModuleList\n",
    "        \n",
    "        # At the same time, define a layer normalization layer to process the     #\n",
    "        # output of the entire encoder.                                           #\n",
    "        ###########################################################################\n",
    "        self.num_cells = num_cells\n",
    "        \n",
    "        self.transdecoder = nn.ModuleList([TransformerDecoderCell(input_dim, num_heads, ff_dim, dropout) for _ in range(num_cells)])\n",
    "        self.layernorm = nn.LayerNorm(input_dim)\n",
    "        \n",
    "        \n",
    "        #raise NotImplementedError\n",
    "        ###########################################################################\n",
    "        #                             END OF YOUR CODE                            #\n",
    "        ###########################################################################\n",
    "    \n",
    "    def forward(self, x: torch.Tensor, encoder_output: torch.Tensor, src_mask=None, tgt_mask=None):            \n",
    "        \"\"\"\n",
    "        Inputs: \n",
    "        - x: Tensor of BxLdxC, word embeddings on the decoder side\n",
    "        - encoder_output: Tensor of BxLexC, word embeddings on the encoder side\n",
    "        - src_mask: Tensor, masks of the tokens on the encoder side\n",
    "        - tgt_mask: Tensor, masks of the tokens on the decoder side\n",
    "        \n",
    "        Return:\n",
    "        - y: Tensor of BxLdxC. Attended features for all tokens on the decoder side.\n",
    "        \"\"\"\n",
    "        \n",
    "        y = None\n",
    "        ###########################################################################\n",
    "        # TODO: Feed x into the stack of TransformerDecoderCells and then         #\n",
    "        # normalize the output with layer norm.                                   #\n",
    "        ###########################################################################\n",
    "        y = x.clone() #x\n",
    "        for i in range(self.num_cells):                 \n",
    "            y = self.transdecoder[i](y, encoder_output, src_mask, tgt_mask)\n",
    "            \n",
    "        y = self.layernorm(y)\n",
    "        \n",
    "        #raise NotImplementedError\n",
    "        ###########################################################################\n",
    "        #                             END OF YOUR CODE                            #\n",
    "        ###########################################################################\n",
    "        \n",
    "        return y"
   ]
  },
  {
   "cell_type": "code",
   "execution_count": 45,
   "id": "0af7e67d",
   "metadata": {
    "id": "0af7e67d"
   },
   "outputs": [
    {
     "name": "stdout",
     "output_type": "stream",
     "text": [
      "torch.Size([3, 10, 16])\n"
     ]
    }
   ],
   "source": [
    "dec_feats = torch.randn((3, 10, 16))\n",
    "dec_mask = torch.randn((3, 1, 10, 10)) > 0.5\n",
    "\n",
    "enc_feats = torch.randn((3, 12, 16))\n",
    "enc_mask = torch.randn((3, 1, 1, 12)) > 0.5\n",
    "\n",
    "model = TransformerDecoder(16, 2, 32, 2, 0.1)\n",
    "z = model(dec_feats, enc_feats, enc_mask, dec_mask)\n",
    "assert len(z.shape) == len(dec_feats.shape)\n",
    "for dim_z, dim_x in zip(z.shape, dec_feats.shape):\n",
    "    assert dim_z == dim_x\n",
    "print(z.shape)"
   ]
  },
  {
   "cell_type": "markdown",
   "id": "08f0615f",
   "metadata": {
    "id": "08f0615f"
   },
   "source": [
    "### <font size='4' color='red'>Task 4.3: Implement a Transformer-based Sequence-to-sequence model (7 points)</font>"
   ]
  },
  {
   "cell_type": "code",
   "execution_count": 46,
   "id": "cad7dabf",
   "metadata": {
    "id": "cad7dabf"
   },
   "outputs": [],
   "source": [
    "class Seq2SeqTransformer(nn.Module):\n",
    "    \"\"\"\n",
    "    Transformer-based sequence-to-sequence model.\n",
    "    \"\"\"\n",
    "    def __init__(self, \n",
    "            num_encoder_layers: int, num_decoder_layers: int, embed_dim: int,\n",
    "            num_heads: int, src_vocab_size: int, tgt_vocab_size: int,\n",
    "            trx_ff_dim: int = 512, dropout: float = 0.1, pad_token: int=0\n",
    "        ):\n",
    "        \"\"\"\n",
    "        Inputs:\n",
    "        - num_encoder_layers: How many TransformerEncoderCell in stack\n",
    "        - num_decoder_layers: How many TransformerDecoderCell in stack\n",
    "        - embed_dim: Word embeddings dimension\n",
    "        - num_heads: Number of attention heads\n",
    "        - src_vocab_size: Number of tokens in the source language vocabulary\n",
    "        - tgt_vocab_size: Number of tokens in the target language vocabulary\n",
    "        - trx_ff_dim: Hidden dimension in the feedforward network\n",
    "        - dropout: Dropout ratio\n",
    "        \"\"\"\n",
    "        super(Seq2SeqTransformer, self).__init__()\n",
    "        \n",
    "        self.embed_dim = embed_dim\n",
    "        print(embed_dim)\n",
    "        \n",
    "        # Word embeddings for both the source and target languages\n",
    "        self.src_token_embed = nn.Embedding(src_vocab_size, embed_dim, padding_idx=pad_token)\n",
    "        self.tgt_token_embed = nn.Embedding(tgt_vocab_size, embed_dim, padding_idx=pad_token)\n",
    "        \n",
    "        ###########################################################################\n",
    "        # TODO: Define the positional encoding, encoder, decoder, and the output  #\n",
    "        # layer. Think of how many classes are in the output layer.               #\n",
    "        ###########################################################################\n",
    "        \n",
    "        self.posencoding1 = PositionalEncoding(embed_dim)\n",
    "        self.posencoding2 = PositionalEncoding(embed_dim)\n",
    "        \n",
    "        self.transencoder = TransformerEncoder(embed_dim, num_heads, trx_ff_dim, num_encoder_layers, dropout)\n",
    "        self.transdecoder = TransformerDecoder(embed_dim, num_heads, trx_ff_dim, num_decoder_layers, dropout)\n",
    "        \n",
    "        self.output = nn.Linear(embed_dim, tgt_vocab_size)\n",
    "        \n",
    "        #raise NotImplementedError\n",
    "        ###########################################################################\n",
    "        #                             END OF YOUR CODE                            #\n",
    "        ###########################################################################\n",
    "        \n",
    "    def forward(self, src: torch.Tensor, tgt: torch.Tensor, src_mask: torch.Tensor, tgt_mask: torch.Tensor):\n",
    "        \"\"\"\n",
    "        Inputs:\n",
    "        - src: Tensor of BxLe, word indexes in the source language\n",
    "        - tgt: Tensor of BxLd, word indexes in the target language\n",
    "        - src_mask: Tensor, masks of the tokens on the encoder side\n",
    "        - tgt_mask: Tensor, masks of the tokens on the decoder side\n",
    "        \n",
    "        Return:\n",
    "        - y: Tensor of BxLdxK. K is the number of classes in the output.\n",
    "        \"\"\"\n",
    "        \n",
    "        # Get word embeddings. Not they are scaled.\n",
    "        src_embed = self.src_token_embed(src) * math.sqrt(self.embed_dim)\n",
    "        tgt_embed = self.tgt_token_embed(tgt) * math.sqrt(self.embed_dim)\n",
    "        \n",
    "        logits = None\n",
    "        ###########################################################################\n",
    "        # TODO: Add positional encodings to the word embeddings. Feed them then   #\n",
    "        # to the encoder and decoder, respectively. Get the logits finally.       #\n",
    "        ###########################################################################\n",
    "        src_out = self.posencoding1(src_embed)\n",
    "        src_out = self.transencoder(src_out, src_mask)\n",
    "        \n",
    "        tgt_out = self.posencoding2(tgt_embed)\n",
    "        tgt_out = self.transdecoder(tgt_out, src_out, src_mask, tgt_mask)\n",
    "        \n",
    "        logits = self.output(tgt_out)\n",
    "        \n",
    "        #raise NotImplementedError\n",
    "        ###########################################################################\n",
    "        #                             END OF YOUR CODE                            #\n",
    "        ###########################################################################\n",
    "        \n",
    "        return logits\n",
    "        "
   ]
  },
  {
   "cell_type": "code",
   "execution_count": 47,
   "id": "5ef6d873",
   "metadata": {
    "id": "5ef6d873"
   },
   "outputs": [
    {
     "name": "stdout",
     "output_type": "stream",
     "text": [
      "16\n",
      "torch.Size([2, 12, 12])\n"
     ]
    }
   ],
   "source": [
    "src_vocab_size = 10\n",
    "src = torch.arange(src_vocab_size).view(1, -1)\n",
    "src = torch.cat((src, src), dim=0)\n",
    "src_mask = torch.randn((2, 1, 1, src_vocab_size)) > 0.5\n",
    "\n",
    "tgt_vocab_size = 12\n",
    "tgt = torch.arange(tgt_vocab_size).view(1, -1)\n",
    "tgt = torch.cat((tgt, tgt), dim=0)\n",
    "tgt_mask = torch.randn((2, 1, tgt_vocab_size, tgt_vocab_size)) > 0.5\n",
    "\n",
    "model = Seq2SeqTransformer(2, 2, 16, 2, src_vocab_size, tgt_vocab_size, 32, 0.1, 0)\n",
    "z = model(src, tgt, src_mask, tgt_mask)\n",
    "print(z.shape)"
   ]
  },
  {
   "cell_type": "markdown",
   "id": "922361b2",
   "metadata": {
    "id": "922361b2"
   },
   "source": [
    "### Create Attention Masks"
   ]
  },
  {
   "cell_type": "code",
   "execution_count": 48,
   "id": "c9a73cc5",
   "metadata": {
    "id": "c9a73cc5"
   },
   "outputs": [],
   "source": [
    "def subsequent_mask(size):\n",
    "    \"Mask out subsequent positions.\"\n",
    "    attn_shape = (1, size, size)\n",
    "    subsequent_mask = np.triu(np.ones(attn_shape), k=1).astype('uint8')\n",
    "    return torch.from_numpy(subsequent_mask) == 0\n",
    "\n",
    "\n",
    "def create_mask(src, tgt, pad_token=0):\n",
    "    src_mask = (src != pad_token).unsqueeze(-2).unsqueeze(1)\n",
    "    \n",
    "    tgt_seq_len = tgt.shape[0]\n",
    "    tgt_mask = (tgt != pad_token).unsqueeze(-2)\n",
    "    tgt_mask = tgt_mask & subsequent_mask(tgt.shape[1]).type_as(tgt_mask.data)\n",
    "\n",
    "    return src_mask, tgt_mask.unsqueeze(1)"
   ]
  },
  {
   "cell_type": "code",
   "execution_count": 41,
   "id": "1ebd011d-bc1d-42db-9412-7f9ac22d42e1",
   "metadata": {
    "scrolled": true
   },
   "outputs": [
    {
     "name": "stdout",
     "output_type": "stream",
     "text": [
      "Defaulting to user installation because normal site-packages is not writeable\n",
      "Collecting seaborn\n",
      "  Downloading seaborn-0.12.2-py3-none-any.whl (293 kB)\n",
      "\u001b[K     |████████████████████████████████| 293 kB 9.9 MB/s eta 0:00:01\n",
      "\u001b[?25hRequirement already satisfied: pandas>=0.25 in /shared/centos7/classes_conda_envs/CS7150/lib/python3.10/site-packages (from seaborn) (1.4.4)\n",
      "Requirement already satisfied: numpy!=1.24.0,>=1.17 in /shared/centos7/classes_conda_envs/CS7150/lib/python3.10/site-packages (from seaborn) (1.24.2)\n",
      "Requirement already satisfied: matplotlib!=3.6.1,>=3.1 in /shared/centos7/classes_conda_envs/CS7150/lib/python3.10/site-packages (from seaborn) (3.5.1)\n",
      "Requirement already satisfied: kiwisolver>=1.0.1 in /shared/centos7/classes_conda_envs/CS7150/lib/python3.10/site-packages (from matplotlib!=3.6.1,>=3.1->seaborn) (1.4.2)\n",
      "Requirement already satisfied: fonttools>=4.22.0 in /shared/centos7/classes_conda_envs/CS7150/lib/python3.10/site-packages (from matplotlib!=3.6.1,>=3.1->seaborn) (4.25.0)\n",
      "Requirement already satisfied: packaging>=20.0 in /shared/centos7/classes_conda_envs/CS7150/lib/python3.10/site-packages (from matplotlib!=3.6.1,>=3.1->seaborn) (21.3)\n",
      "Requirement already satisfied: python-dateutil>=2.7 in /shared/centos7/classes_conda_envs/CS7150/lib/python3.10/site-packages (from matplotlib!=3.6.1,>=3.1->seaborn) (2.8.2)\n",
      "Requirement already satisfied: pyparsing>=2.2.1 in /shared/centos7/classes_conda_envs/CS7150/lib/python3.10/site-packages (from matplotlib!=3.6.1,>=3.1->seaborn) (3.0.9)\n",
      "Requirement already satisfied: cycler>=0.10 in /shared/centos7/classes_conda_envs/CS7150/lib/python3.10/site-packages (from matplotlib!=3.6.1,>=3.1->seaborn) (0.11.0)\n",
      "Requirement already satisfied: pillow>=6.2.0 in /shared/centos7/classes_conda_envs/CS7150/lib/python3.10/site-packages (from matplotlib!=3.6.1,>=3.1->seaborn) (9.2.0)\n",
      "Requirement already satisfied: pytz>=2020.1 in /shared/centos7/classes_conda_envs/CS7150/lib/python3.10/site-packages (from pandas>=0.25->seaborn) (2022.1)\n",
      "Requirement already satisfied: six>=1.5 in /shared/centos7/classes_conda_envs/CS7150/lib/python3.10/site-packages (from python-dateutil>=2.7->matplotlib!=3.6.1,>=3.1->seaborn) (1.16.0)\n",
      "Installing collected packages: seaborn\n",
      "Successfully installed seaborn-0.12.2\n"
     ]
    }
   ],
   "source": [
    "#!pip install seaborn"
   ]
  },
  {
   "cell_type": "code",
   "execution_count": 49,
   "id": "ebd199b2",
   "metadata": {
    "id": "ebd199b2"
   },
   "outputs": [
    {
     "name": "stdout",
     "output_type": "stream",
     "text": [
      "torch.Size([2, 1, 1, 10]) torch.Size([2, 1, 10, 10])\n"
     ]
    },
    {
     "data": {
      "image/png": "[encoded data removed]",
      "text/plain": [
       "<Figure size 500x500 with 1 Axes>"
      ]
     },
     "metadata": {},
     "output_type": "display_data"
    }
   ],
   "source": [
    "# Let's visualize what the target mask looks like\n",
    "import seaborn\n",
    "seaborn.set_context(context=\"talk\")\n",
    "\n",
    "plt.figure(figsize=(5,5))\n",
    "plt.imshow(subsequent_mask(20)[0].numpy())\n",
    "\n",
    "x = torch.arange(src_vocab_size).view(1, -1)\n",
    "x = torch.cat((x, x), dim=0)\n",
    "src_mask, tgt_mask = create_mask(x, x)\n",
    "print(src_mask.shape, tgt_mask.shape)"
   ]
  },
  {
   "cell_type": "markdown",
   "id": "efd3815f",
   "metadata": {
    "id": "efd3815f"
   },
   "source": [
    "### Prepare Data Loaders"
   ]
  },
  {
   "cell_type": "code",
   "execution_count": 50,
   "id": "276afbc7",
   "metadata": {
    "id": "276afbc7"
   },
   "outputs": [
    {
     "name": "stdout",
     "output_type": "stream",
     "text": [
      "Requirement already satisfied: spacy in /home/users/tracylin/anaconda3/envs/pytorch/lib/python3.9/site-packages (3.5.1)\n",
      "Requirement already satisfied: catalogue<2.1.0,>=2.0.6 in /home/users/tracylin/anaconda3/envs/pytorch/lib/python3.9/site-packages (from spacy) (2.0.8)\n",
      "Requirement already satisfied: murmurhash<1.1.0,>=0.28.0 in /home/users/tracylin/anaconda3/envs/pytorch/lib/python3.9/site-packages (from spacy) (1.0.9)\n",
      "Requirement already satisfied: spacy-loggers<2.0.0,>=1.0.0 in /home/users/tracylin/anaconda3/envs/pytorch/lib/python3.9/site-packages (from spacy) (1.0.4)\n",
      "Requirement already satisfied: requests<3.0.0,>=2.13.0 in /home/users/tracylin/anaconda3/envs/pytorch/lib/python3.9/site-packages (from spacy) (2.28.1)\n",
      "Requirement already satisfied: spacy-legacy<3.1.0,>=3.0.11 in /home/users/tracylin/anaconda3/envs/pytorch/lib/python3.9/site-packages (from spacy) (3.0.12)\n",
      "Requirement already satisfied: numpy>=1.15.0 in /home/users/tracylin/anaconda3/envs/pytorch/lib/python3.9/site-packages (from spacy) (1.23.5)\n",
      "Requirement already satisfied: pydantic!=1.8,!=1.8.1,<1.11.0,>=1.7.4 in /home/users/tracylin/anaconda3/envs/pytorch/lib/python3.9/site-packages (from spacy) (1.10.6)\n",
      "Requirement already satisfied: smart-open<7.0.0,>=5.2.1 in /home/users/tracylin/anaconda3/envs/pytorch/lib/python3.9/site-packages (from spacy) (6.3.0)\n",
      "Requirement already satisfied: tqdm<5.0.0,>=4.38.0 in /home/users/tracylin/anaconda3/envs/pytorch/lib/python3.9/site-packages (from spacy) (4.64.1)\n",
      "Requirement already satisfied: langcodes<4.0.0,>=3.2.0 in /home/users/tracylin/anaconda3/envs/pytorch/lib/python3.9/site-packages (from spacy) (3.3.0)\n",
      "Requirement already satisfied: srsly<3.0.0,>=2.4.3 in /home/users/tracylin/anaconda3/envs/pytorch/lib/python3.9/site-packages (from spacy) (2.4.6)\n",
      "Requirement already satisfied: setuptools in /home/users/tracylin/anaconda3/envs/pytorch/lib/python3.9/site-packages (from spacy) (67.4.0)\n",
      "Requirement already satisfied: jinja2 in /home/users/tracylin/anaconda3/envs/pytorch/lib/python3.9/site-packages (from spacy) (3.1.2)\n",
      "Requirement already satisfied: thinc<8.2.0,>=8.1.8 in /home/users/tracylin/anaconda3/envs/pytorch/lib/python3.9/site-packages (from spacy) (8.1.9)\n",
      "Requirement already satisfied: preshed<3.1.0,>=3.0.2 in /home/users/tracylin/anaconda3/envs/pytorch/lib/python3.9/site-packages (from spacy) (3.0.8)\n",
      "Requirement already satisfied: packaging>=20.0 in /home/users/tracylin/anaconda3/envs/pytorch/lib/python3.9/site-packages (from spacy) (23.0)\n",
      "Requirement already satisfied: wasabi<1.2.0,>=0.9.1 in /home/users/tracylin/anaconda3/envs/pytorch/lib/python3.9/site-packages (from spacy) (1.1.1)\n",
      "Requirement already satisfied: typer<0.8.0,>=0.3.0 in /home/users/tracylin/anaconda3/envs/pytorch/lib/python3.9/site-packages (from spacy) (0.7.0)\n",
      "Requirement already satisfied: cymem<2.1.0,>=2.0.2 in /home/users/tracylin/anaconda3/envs/pytorch/lib/python3.9/site-packages (from spacy) (2.0.7)\n",
      "Requirement already satisfied: pathy>=0.10.0 in /home/users/tracylin/anaconda3/envs/pytorch/lib/python3.9/site-packages (from spacy) (0.10.1)\n",
      "Requirement already satisfied: typing-extensions>=4.2.0 in /home/users/tracylin/anaconda3/envs/pytorch/lib/python3.9/site-packages (from pydantic!=1.8,!=1.8.1,<1.11.0,>=1.7.4->spacy) (4.4.0)\n",
      "Requirement already satisfied: charset-normalizer<3,>=2 in /home/users/tracylin/anaconda3/envs/pytorch/lib/python3.9/site-packages (from requests<3.0.0,>=2.13.0->spacy) (2.0.4)\n",
      "Requirement already satisfied: idna<4,>=2.5 in /home/users/tracylin/anaconda3/envs/pytorch/lib/python3.9/site-packages (from requests<3.0.0,>=2.13.0->spacy) (3.4)\n",
      "Requirement already satisfied: certifi>=2017.4.17 in /home/users/tracylin/anaconda3/envs/pytorch/lib/python3.9/site-packages (from requests<3.0.0,>=2.13.0->spacy) (2022.12.7)\n",
      "Requirement already satisfied: urllib3<1.27,>=1.21.1 in /home/users/tracylin/anaconda3/envs/pytorch/lib/python3.9/site-packages (from requests<3.0.0,>=2.13.0->spacy) (1.26.14)\n",
      "Requirement already satisfied: blis<0.8.0,>=0.7.8 in /home/users/tracylin/anaconda3/envs/pytorch/lib/python3.9/site-packages (from thinc<8.2.0,>=8.1.8->spacy) (0.7.9)\n",
      "Requirement already satisfied: confection<1.0.0,>=0.0.1 in /home/users/tracylin/anaconda3/envs/pytorch/lib/python3.9/site-packages (from thinc<8.2.0,>=8.1.8->spacy) (0.0.4)\n",
      "Requirement already satisfied: click<9.0.0,>=7.1.1 in /home/users/tracylin/anaconda3/envs/pytorch/lib/python3.9/site-packages (from typer<0.8.0,>=0.3.0->spacy) (8.1.3)\n",
      "Requirement already satisfied: MarkupSafe>=2.0 in /home/users/tracylin/anaconda3/envs/pytorch/lib/python3.9/site-packages (from jinja2->spacy) (2.1.2)\n",
      "Collecting en-core-web-sm==3.5.0\n",
      "  Downloading https://github.com/explosion/spacy-models/releases/download/en_core_web_sm-3.5.0/en_core_web_sm-3.5.0-py3-none-any.whl (12.8 MB)\n",
      "\u001b[2K     \u001b[38;2;114;156;31m━━━━━━━━━━━━━━━━━━━━━━━━━━━━━━━━━━━━━━━━\u001b[0m \u001b[32m12.8/12.8 MB\u001b[0m \u001b[31m45.5 MB/s\u001b[0m eta \u001b[36m0:00:00\u001b[0mm eta \u001b[36m0:00:01\u001b[0m36m0:00:01\u001b[0m\n",
      "\u001b[?25hRequirement already satisfied: spacy<3.6.0,>=3.5.0 in /home/users/tracylin/anaconda3/envs/pytorch/lib/python3.9/site-packages (from en-core-web-sm==3.5.0) (3.5.1)\n",
      "Requirement already satisfied: srsly<3.0.0,>=2.4.3 in /home/users/tracylin/anaconda3/envs/pytorch/lib/python3.9/site-packages (from spacy<3.6.0,>=3.5.0->en-core-web-sm==3.5.0) (2.4.6)\n",
      "Requirement already satisfied: spacy-legacy<3.1.0,>=3.0.11 in /home/users/tracylin/anaconda3/envs/pytorch/lib/python3.9/site-packages (from spacy<3.6.0,>=3.5.0->en-core-web-sm==3.5.0) (3.0.12)\n",
      "Requirement already satisfied: typer<0.8.0,>=0.3.0 in /home/users/tracylin/anaconda3/envs/pytorch/lib/python3.9/site-packages (from spacy<3.6.0,>=3.5.0->en-core-web-sm==3.5.0) (0.7.0)\n",
      "Requirement already satisfied: requests<3.0.0,>=2.13.0 in /home/users/tracylin/anaconda3/envs/pytorch/lib/python3.9/site-packages (from spacy<3.6.0,>=3.5.0->en-core-web-sm==3.5.0) (2.28.1)\n",
      "Requirement already satisfied: tqdm<5.0.0,>=4.38.0 in /home/users/tracylin/anaconda3/envs/pytorch/lib/python3.9/site-packages (from spacy<3.6.0,>=3.5.0->en-core-web-sm==3.5.0) (4.64.1)\n",
      "Requirement already satisfied: catalogue<2.1.0,>=2.0.6 in /home/users/tracylin/anaconda3/envs/pytorch/lib/python3.9/site-packages (from spacy<3.6.0,>=3.5.0->en-core-web-sm==3.5.0) (2.0.8)\n",
      "Requirement already satisfied: numpy>=1.15.0 in /home/users/tracylin/anaconda3/envs/pytorch/lib/python3.9/site-packages (from spacy<3.6.0,>=3.5.0->en-core-web-sm==3.5.0) (1.23.5)\n",
      "Requirement already satisfied: smart-open<7.0.0,>=5.2.1 in /home/users/tracylin/anaconda3/envs/pytorch/lib/python3.9/site-packages (from spacy<3.6.0,>=3.5.0->en-core-web-sm==3.5.0) (6.3.0)\n",
      "Requirement already satisfied: wasabi<1.2.0,>=0.9.1 in /home/users/tracylin/anaconda3/envs/pytorch/lib/python3.9/site-packages (from spacy<3.6.0,>=3.5.0->en-core-web-sm==3.5.0) (1.1.1)\n",
      "Requirement already satisfied: setuptools in /home/users/tracylin/anaconda3/envs/pytorch/lib/python3.9/site-packages (from spacy<3.6.0,>=3.5.0->en-core-web-sm==3.5.0) (67.4.0)\n",
      "Requirement already satisfied: spacy-loggers<2.0.0,>=1.0.0 in /home/users/tracylin/anaconda3/envs/pytorch/lib/python3.9/site-packages (from spacy<3.6.0,>=3.5.0->en-core-web-sm==3.5.0) (1.0.4)\n",
      "Requirement already satisfied: packaging>=20.0 in /home/users/tracylin/anaconda3/envs/pytorch/lib/python3.9/site-packages (from spacy<3.6.0,>=3.5.0->en-core-web-sm==3.5.0) (23.0)\n",
      "Requirement already satisfied: jinja2 in /home/users/tracylin/anaconda3/envs/pytorch/lib/python3.9/site-packages (from spacy<3.6.0,>=3.5.0->en-core-web-sm==3.5.0) (3.1.2)\n",
      "Requirement already satisfied: murmurhash<1.1.0,>=0.28.0 in /home/users/tracylin/anaconda3/envs/pytorch/lib/python3.9/site-packages (from spacy<3.6.0,>=3.5.0->en-core-web-sm==3.5.0) (1.0.9)\n",
      "Requirement already satisfied: pathy>=0.10.0 in /home/users/tracylin/anaconda3/envs/pytorch/lib/python3.9/site-packages (from spacy<3.6.0,>=3.5.0->en-core-web-sm==3.5.0) (0.10.1)\n",
      "Requirement already satisfied: thinc<8.2.0,>=8.1.8 in /home/users/tracylin/anaconda3/envs/pytorch/lib/python3.9/site-packages (from spacy<3.6.0,>=3.5.0->en-core-web-sm==3.5.0) (8.1.9)\n",
      "Requirement already satisfied: preshed<3.1.0,>=3.0.2 in /home/users/tracylin/anaconda3/envs/pytorch/lib/python3.9/site-packages (from spacy<3.6.0,>=3.5.0->en-core-web-sm==3.5.0) (3.0.8)\n",
      "Requirement already satisfied: cymem<2.1.0,>=2.0.2 in /home/users/tracylin/anaconda3/envs/pytorch/lib/python3.9/site-packages (from spacy<3.6.0,>=3.5.0->en-core-web-sm==3.5.0) (2.0.7)\n",
      "Requirement already satisfied: langcodes<4.0.0,>=3.2.0 in /home/users/tracylin/anaconda3/envs/pytorch/lib/python3.9/site-packages (from spacy<3.6.0,>=3.5.0->en-core-web-sm==3.5.0) (3.3.0)\n",
      "Requirement already satisfied: pydantic!=1.8,!=1.8.1,<1.11.0,>=1.7.4 in /home/users/tracylin/anaconda3/envs/pytorch/lib/python3.9/site-packages (from spacy<3.6.0,>=3.5.0->en-core-web-sm==3.5.0) (1.10.6)\n",
      "Requirement already satisfied: typing-extensions>=4.2.0 in /home/users/tracylin/anaconda3/envs/pytorch/lib/python3.9/site-packages (from pydantic!=1.8,!=1.8.1,<1.11.0,>=1.7.4->spacy<3.6.0,>=3.5.0->en-core-web-sm==3.5.0) (4.4.0)\n"
     ]
    },
    {
     "name": "stdout",
     "output_type": "stream",
     "text": [
      "Requirement already satisfied: charset-normalizer<3,>=2 in /home/users/tracylin/anaconda3/envs/pytorch/lib/python3.9/site-packages (from requests<3.0.0,>=2.13.0->spacy<3.6.0,>=3.5.0->en-core-web-sm==3.5.0) (2.0.4)\n",
      "Requirement already satisfied: idna<4,>=2.5 in /home/users/tracylin/anaconda3/envs/pytorch/lib/python3.9/site-packages (from requests<3.0.0,>=2.13.0->spacy<3.6.0,>=3.5.0->en-core-web-sm==3.5.0) (3.4)\n",
      "Requirement already satisfied: urllib3<1.27,>=1.21.1 in /home/users/tracylin/anaconda3/envs/pytorch/lib/python3.9/site-packages (from requests<3.0.0,>=2.13.0->spacy<3.6.0,>=3.5.0->en-core-web-sm==3.5.0) (1.26.14)\n",
      "Requirement already satisfied: certifi>=2017.4.17 in /home/users/tracylin/anaconda3/envs/pytorch/lib/python3.9/site-packages (from requests<3.0.0,>=2.13.0->spacy<3.6.0,>=3.5.0->en-core-web-sm==3.5.0) (2022.12.7)\n",
      "Requirement already satisfied: blis<0.8.0,>=0.7.8 in /home/users/tracylin/anaconda3/envs/pytorch/lib/python3.9/site-packages (from thinc<8.2.0,>=8.1.8->spacy<3.6.0,>=3.5.0->en-core-web-sm==3.5.0) (0.7.9)\n",
      "Requirement already satisfied: confection<1.0.0,>=0.0.1 in /home/users/tracylin/anaconda3/envs/pytorch/lib/python3.9/site-packages (from thinc<8.2.0,>=8.1.8->spacy<3.6.0,>=3.5.0->en-core-web-sm==3.5.0) (0.0.4)\n",
      "Requirement already satisfied: click<9.0.0,>=7.1.1 in /home/users/tracylin/anaconda3/envs/pytorch/lib/python3.9/site-packages (from typer<0.8.0,>=0.3.0->spacy<3.6.0,>=3.5.0->en-core-web-sm==3.5.0) (8.1.3)\n",
      "Requirement already satisfied: MarkupSafe>=2.0 in /home/users/tracylin/anaconda3/envs/pytorch/lib/python3.9/site-packages (from jinja2->spacy<3.6.0,>=3.5.0->en-core-web-sm==3.5.0) (2.1.2)\n",
      "\u001b[38;5;2m✔ Download and installation successful\u001b[0m\n",
      "You can now load the package via spacy.load('en_core_web_sm')\n",
      "Collecting de-core-news-sm==3.5.0\n",
      "  Downloading https://github.com/explosion/spacy-models/releases/download/de_core_news_sm-3.5.0/de_core_news_sm-3.5.0-py3-none-any.whl (14.6 MB)\n",
      "\u001b[2K     \u001b[38;2;114;156;31m━━━━━━━━━━━━━━━━━━━━━━━━━━━━━━━━━━━━━━━━\u001b[0m \u001b[32m14.6/14.6 MB\u001b[0m \u001b[31m42.2 MB/s\u001b[0m eta \u001b[36m0:00:00\u001b[0mm eta \u001b[36m0:00:01\u001b[0m0:01\u001b[0m01\u001b[0m\n",
      "\u001b[?25hRequirement already satisfied: spacy<3.6.0,>=3.5.0 in /home/users/tracylin/anaconda3/envs/pytorch/lib/python3.9/site-packages (from de-core-news-sm==3.5.0) (3.5.1)\n",
      "Requirement already satisfied: langcodes<4.0.0,>=3.2.0 in /home/users/tracylin/anaconda3/envs/pytorch/lib/python3.9/site-packages (from spacy<3.6.0,>=3.5.0->de-core-news-sm==3.5.0) (3.3.0)\n",
      "Requirement already satisfied: murmurhash<1.1.0,>=0.28.0 in /home/users/tracylin/anaconda3/envs/pytorch/lib/python3.9/site-packages (from spacy<3.6.0,>=3.5.0->de-core-news-sm==3.5.0) (1.0.9)\n",
      "Requirement already satisfied: smart-open<7.0.0,>=5.2.1 in /home/users/tracylin/anaconda3/envs/pytorch/lib/python3.9/site-packages (from spacy<3.6.0,>=3.5.0->de-core-news-sm==3.5.0) (6.3.0)\n",
      "Requirement already satisfied: packaging>=20.0 in /home/users/tracylin/anaconda3/envs/pytorch/lib/python3.9/site-packages (from spacy<3.6.0,>=3.5.0->de-core-news-sm==3.5.0) (23.0)\n",
      "Requirement already satisfied: numpy>=1.15.0 in /home/users/tracylin/anaconda3/envs/pytorch/lib/python3.9/site-packages (from spacy<3.6.0,>=3.5.0->de-core-news-sm==3.5.0) (1.23.5)\n",
      "Requirement already satisfied: wasabi<1.2.0,>=0.9.1 in /home/users/tracylin/anaconda3/envs/pytorch/lib/python3.9/site-packages (from spacy<3.6.0,>=3.5.0->de-core-news-sm==3.5.0) (1.1.1)\n",
      "Requirement already satisfied: pydantic!=1.8,!=1.8.1,<1.11.0,>=1.7.4 in /home/users/tracylin/anaconda3/envs/pytorch/lib/python3.9/site-packages (from spacy<3.6.0,>=3.5.0->de-core-news-sm==3.5.0) (1.10.6)\n",
      "Requirement already satisfied: jinja2 in /home/users/tracylin/anaconda3/envs/pytorch/lib/python3.9/site-packages (from spacy<3.6.0,>=3.5.0->de-core-news-sm==3.5.0) (3.1.2)\n",
      "Requirement already satisfied: requests<3.0.0,>=2.13.0 in /home/users/tracylin/anaconda3/envs/pytorch/lib/python3.9/site-packages (from spacy<3.6.0,>=3.5.0->de-core-news-sm==3.5.0) (2.28.1)\n",
      "Requirement already satisfied: thinc<8.2.0,>=8.1.8 in /home/users/tracylin/anaconda3/envs/pytorch/lib/python3.9/site-packages (from spacy<3.6.0,>=3.5.0->de-core-news-sm==3.5.0) (8.1.9)\n",
      "Requirement already satisfied: spacy-loggers<2.0.0,>=1.0.0 in /home/users/tracylin/anaconda3/envs/pytorch/lib/python3.9/site-packages (from spacy<3.6.0,>=3.5.0->de-core-news-sm==3.5.0) (1.0.4)\n",
      "Requirement already satisfied: typer<0.8.0,>=0.3.0 in /home/users/tracylin/anaconda3/envs/pytorch/lib/python3.9/site-packages (from spacy<3.6.0,>=3.5.0->de-core-news-sm==3.5.0) (0.7.0)\n",
      "Requirement already satisfied: spacy-legacy<3.1.0,>=3.0.11 in /home/users/tracylin/anaconda3/envs/pytorch/lib/python3.9/site-packages (from spacy<3.6.0,>=3.5.0->de-core-news-sm==3.5.0) (3.0.12)\n",
      "Requirement already satisfied: catalogue<2.1.0,>=2.0.6 in /home/users/tracylin/anaconda3/envs/pytorch/lib/python3.9/site-packages (from spacy<3.6.0,>=3.5.0->de-core-news-sm==3.5.0) (2.0.8)\n",
      "Requirement already satisfied: cymem<2.1.0,>=2.0.2 in /home/users/tracylin/anaconda3/envs/pytorch/lib/python3.9/site-packages (from spacy<3.6.0,>=3.5.0->de-core-news-sm==3.5.0) (2.0.7)\n",
      "Requirement already satisfied: srsly<3.0.0,>=2.4.3 in /home/users/tracylin/anaconda3/envs/pytorch/lib/python3.9/site-packages (from spacy<3.6.0,>=3.5.0->de-core-news-sm==3.5.0) (2.4.6)\n",
      "Requirement already satisfied: preshed<3.1.0,>=3.0.2 in /home/users/tracylin/anaconda3/envs/pytorch/lib/python3.9/site-packages (from spacy<3.6.0,>=3.5.0->de-core-news-sm==3.5.0) (3.0.8)\n",
      "Requirement already satisfied: pathy>=0.10.0 in /home/users/tracylin/anaconda3/envs/pytorch/lib/python3.9/site-packages (from spacy<3.6.0,>=3.5.0->de-core-news-sm==3.5.0) (0.10.1)\n",
      "Requirement already satisfied: tqdm<5.0.0,>=4.38.0 in /home/users/tracylin/anaconda3/envs/pytorch/lib/python3.9/site-packages (from spacy<3.6.0,>=3.5.0->de-core-news-sm==3.5.0) (4.64.1)\n",
      "Requirement already satisfied: setuptools in /home/users/tracylin/anaconda3/envs/pytorch/lib/python3.9/site-packages (from spacy<3.6.0,>=3.5.0->de-core-news-sm==3.5.0) (67.4.0)\n",
      "Requirement already satisfied: typing-extensions>=4.2.0 in /home/users/tracylin/anaconda3/envs/pytorch/lib/python3.9/site-packages (from pydantic!=1.8,!=1.8.1,<1.11.0,>=1.7.4->spacy<3.6.0,>=3.5.0->de-core-news-sm==3.5.0) (4.4.0)\n",
      "Requirement already satisfied: urllib3<1.27,>=1.21.1 in /home/users/tracylin/anaconda3/envs/pytorch/lib/python3.9/site-packages (from requests<3.0.0,>=2.13.0->spacy<3.6.0,>=3.5.0->de-core-news-sm==3.5.0) (1.26.14)\n",
      "Requirement already satisfied: idna<4,>=2.5 in /home/users/tracylin/anaconda3/envs/pytorch/lib/python3.9/site-packages (from requests<3.0.0,>=2.13.0->spacy<3.6.0,>=3.5.0->de-core-news-sm==3.5.0) (3.4)\n",
      "Requirement already satisfied: certifi>=2017.4.17 in /home/users/tracylin/anaconda3/envs/pytorch/lib/python3.9/site-packages (from requests<3.0.0,>=2.13.0->spacy<3.6.0,>=3.5.0->de-core-news-sm==3.5.0) (2022.12.7)\n",
      "Requirement already satisfied: charset-normalizer<3,>=2 in /home/users/tracylin/anaconda3/envs/pytorch/lib/python3.9/site-packages (from requests<3.0.0,>=2.13.0->spacy<3.6.0,>=3.5.0->de-core-news-sm==3.5.0) (2.0.4)\n",
      "Requirement already satisfied: confection<1.0.0,>=0.0.1 in /home/users/tracylin/anaconda3/envs/pytorch/lib/python3.9/site-packages (from thinc<8.2.0,>=8.1.8->spacy<3.6.0,>=3.5.0->de-core-news-sm==3.5.0) (0.0.4)\n",
      "Requirement already satisfied: blis<0.8.0,>=0.7.8 in /home/users/tracylin/anaconda3/envs/pytorch/lib/python3.9/site-packages (from thinc<8.2.0,>=8.1.8->spacy<3.6.0,>=3.5.0->de-core-news-sm==3.5.0) (0.7.9)\n",
      "Requirement already satisfied: click<9.0.0,>=7.1.1 in /home/users/tracylin/anaconda3/envs/pytorch/lib/python3.9/site-packages (from typer<0.8.0,>=0.3.0->spacy<3.6.0,>=3.5.0->de-core-news-sm==3.5.0) (8.1.3)\n",
      "Requirement already satisfied: MarkupSafe>=2.0 in /home/users/tracylin/anaconda3/envs/pytorch/lib/python3.9/site-packages (from jinja2->spacy<3.6.0,>=3.5.0->de-core-news-sm==3.5.0) (2.1.2)\n",
      "\u001b[38;5;2m✔ Download and installation successful\u001b[0m\n",
      "You can now load the package via spacy.load('de_core_news_sm')\n"
     ]
    }
   ],
   "source": [
    "#!pip install torch==1.10.0 torchtext==0.11.0\n",
    "#! pip3 install torch==1.10.2+cu102 torchvision==0.11.3+cu102\n",
    "from torchtext.data.utils import get_tokenizer\n",
    "from torchtext.vocab import build_vocab_from_iterator\n",
    "from torchtext.datasets import Multi30k\n",
    "from typing import Iterable, List\n",
    "\n",
    "\n",
    "SRC_LANGUAGE = 'de'\n",
    "TGT_LANGUAGE = 'en'\n",
    "\n",
    "# Place-holders\n",
    "token_transform = {}\n",
    "vocab_transform = {}\n",
    "\n",
    "\n",
    "# # Create source and target language tokenizer. Make sure to install the dependencies.\n",
    "!pip install -U spacy\n",
    "!python -m spacy download en_core_web_sm\n",
    "!python -m spacy download de_core_news_sm\n",
    "\n",
    "# !python -m spacy link en_core_web_sm en\n",
    "# !python -m spacy link de_core_news_sm de\n",
    "\n",
    "token_transform[SRC_LANGUAGE] = get_tokenizer('spacy', language='de_core_news_sm')\n",
    "token_transform[TGT_LANGUAGE] = get_tokenizer('spacy', language='en_core_web_sm')\n",
    "\n",
    "\n",
    "# helper function to yield list of tokens\n",
    "def yield_tokens(data_iter: Iterable, language: str) -> List[str]:\n",
    "    language_index = {SRC_LANGUAGE: 0, TGT_LANGUAGE: 1}\n",
    "\n",
    "    for data_sample in data_iter:\n",
    "        yield token_transform[language](data_sample[language_index[language]])\n",
    "\n",
    "# Define special symbols and indices\n",
    "UNK_IDX, PAD_IDX, BOS_IDX, EOS_IDX = 0, 1, 2, 3\n",
    "# Make sure the tokens are in order of their indices to properly insert them in vocab\n",
    "special_symbols = ['<unk>', '<pad>', '<bos>', '<eos>']\n",
    " \n",
    "for ln in [SRC_LANGUAGE, TGT_LANGUAGE]:\n",
    "    # Training data Iterator \n",
    "    train_iter = Multi30k(split='train', language_pair=(SRC_LANGUAGE, TGT_LANGUAGE))\n",
    "    # Create torchtext's Vocab object \n",
    "    vocab_transform[ln] = build_vocab_from_iterator(yield_tokens(train_iter, ln),\n",
    "                                                    min_freq=1,\n",
    "                                                    specials=special_symbols,\n",
    "                                                    special_first=True)\n",
    "\n",
    "# Set UNK_IDX as the default index. This index is returned when the token is not found. \n",
    "# If not set, it throws RuntimeError when the queried token is not found in the Vocabulary. \n",
    "for ln in [SRC_LANGUAGE, TGT_LANGUAGE]:\n",
    "    vocab_transform[ln].set_default_index(UNK_IDX)"
   ]
  },
  {
   "cell_type": "code",
   "execution_count": 51,
   "id": "e7ac308f",
   "metadata": {
    "id": "e7ac308f"
   },
   "outputs": [],
   "source": [
    "from torch.nn.utils.rnn import pad_sequence\n",
    "\n",
    "# helper function to club together sequential operations\n",
    "def sequential_transforms(*transforms):\n",
    "    def func(txt_input):\n",
    "        for transform in transforms:\n",
    "            txt_input = transform(txt_input)\n",
    "        return txt_input\n",
    "    return func\n",
    "\n",
    "# function to add BOS/EOS and create tensor for input sequence indices\n",
    "def tensor_transform(token_ids: List[int]):\n",
    "    return torch.cat((torch.tensor([BOS_IDX]), \n",
    "                      torch.tensor(token_ids), \n",
    "                      torch.tensor([EOS_IDX])))\n",
    "\n",
    "# src and tgt language text transforms to convert raw strings into tensors indices\n",
    "text_transform = {}\n",
    "for ln in [SRC_LANGUAGE, TGT_LANGUAGE]:\n",
    "    text_transform[ln] = sequential_transforms(\n",
    "        token_transform[ln], #Tokenization\n",
    "        vocab_transform[ln], #Numericalization\n",
    "        tensor_transform # Add BOS/EOS and create tensor\n",
    "    )\n",
    "\n",
    "\n",
    "# function to collate data samples into batch tesors\n",
    "def collate_fn(batch):\n",
    "    src_batch, tgt_batch = [], []\n",
    "    for src_sample, tgt_sample in batch:\n",
    "        src_batch.append(text_transform[SRC_LANGUAGE](src_sample.rstrip(\"\\n\")))\n",
    "        tgt_batch.append(text_transform[TGT_LANGUAGE](tgt_sample.rstrip(\"\\n\")))\n",
    "\n",
    "    src_batch = pad_sequence(src_batch, padding_value=PAD_IDX)\n",
    "    tgt_batch = pad_sequence(tgt_batch, padding_value=PAD_IDX)\n",
    "    return src_batch.transpose(0, 1), tgt_batch.transpose(0, 1)"
   ]
  },
  {
   "cell_type": "code",
   "execution_count": 52,
   "id": "052976db",
   "metadata": {
    "id": "052976db"
   },
   "outputs": [
    {
     "name": "stdout",
     "output_type": "stream",
     "text": [
      "3626\n",
      "src: torch.Size([8, 18]), tgt: torch.Size([8, 17])\n",
      "src: torch.Size([8, 20]), tgt: torch.Size([8, 19])\n",
      "src: torch.Size([8, 18]), tgt: torch.Size([8, 19])\n"
     ]
    }
   ],
   "source": [
    "BATCH_SIZE = 8\n",
    "\n",
    "train_iter = Multi30k(split='train', language_pair=(SRC_LANGUAGE, TGT_LANGUAGE))\n",
    "train_dataloader = DataLoader(train_iter, batch_size=BATCH_SIZE, collate_fn=collate_fn)\n",
    "\n",
    "print(len(list(train_dataloader)))\n",
    "val_iter = Multi30k(split='valid', language_pair=(SRC_LANGUAGE, TGT_LANGUAGE))\n",
    "val_dataloader = DataLoader(val_iter, batch_size=BATCH_SIZE, collate_fn=collate_fn)\n",
    "\n",
    "for idx, (src, tgt) in enumerate(train_dataloader):\n",
    "    if idx > 2:\n",
    "        break\n",
    "    print('src: {}, tgt: {}'.format(src.shape, tgt.shape))"
   ]
  },
  {
   "cell_type": "markdown",
   "id": "76e9d060",
   "metadata": {
    "id": "76e9d060"
   },
   "source": [
    "### <font size='4' color='red'>Task 4.4: Define the Model and Loss Function (3 points)</font>"
   ]
  },
  {
   "cell_type": "code",
   "execution_count": 56,
   "id": "b1cfcf01",
   "metadata": {
    "id": "b1cfcf01"
   },
   "outputs": [
    {
     "name": "stdout",
     "output_type": "stream",
     "text": [
      "512\n"
     ]
    }
   ],
   "source": [
    "torch.manual_seed(0)\n",
    "\n",
    "SRC_VOCAB_SIZE = len(vocab_transform[SRC_LANGUAGE])\n",
    "TGT_VOCAB_SIZE = len(vocab_transform[TGT_LANGUAGE])\n",
    "EMBED_SIZE = 512\n",
    "NUM_ATTN_HEADS = 8\n",
    "FF_DIM = 512\n",
    "BATCH_SIZE = 128\n",
    "NUM_ENCODER_LAYERS = 3\n",
    "NUM_DECODER_LAYERS = 3\n",
    "\n",
    "###########################################################################\n",
    "# TODO: Define the model and loss function.                               #\n",
    "# Note that this time we will generate tokens, where some of them in the  #\n",
    "# training time are from paddings. We don't want to penalize the model    #\n",
    "# if the output at such positions are wrong. You can use the              #\n",
    "# `ignore_index` in a loss function to suppress loss computation if the   #\n",
    "# ground-truth label is equal to the given value. Check here for          #\n",
    "# more details https://pytorch.org/docs/stable/nn.html#loss-functions     #\n",
    "###########################################################################\n",
    "\n",
    "transformer = Seq2SeqTransformer(num_encoder_layers = NUM_ENCODER_LAYERS, num_decoder_layers = NUM_DECODER_LAYERS,\n",
    "                           embed_dim = EMBED_SIZE, num_heads = NUM_ATTN_HEADS, \n",
    "                           src_vocab_size = SRC_VOCAB_SIZE, tgt_vocab_size =TGT_VOCAB_SIZE,\n",
    "                           trx_ff_dim = FF_DIM)\n",
    "\n",
    "loss_fn = nn.CrossEntropyLoss() \n",
    "#raise NotImplementedError\n",
    "###########################################################################\n",
    "#                             END OF YOUR CODE                            #\n",
    "###########################################################################\n",
    "\n",
    "for p in transformer.parameters():\n",
    "    if p.dim() > 1:\n",
    "        nn.init.xavier_uniform_(p)\n",
    "transformer = transformer.to(device)\n",
    "\n",
    "optimizer = torch.optim.Adam(\n",
    "    transformer.parameters(), \n",
    "    lr=0.0001, \n",
    "    betas=(0.9, 0.98), \n",
    "    eps=1e-9\n",
    ")"
   ]
  },
  {
   "cell_type": "markdown",
   "id": "14426704",
   "metadata": {
    "id": "14426704"
   },
   "source": [
    "### Model Training and Validation"
   ]
  },
  {
   "cell_type": "code",
   "execution_count": 57,
   "id": "47d0266e",
   "metadata": {
    "id": "47d0266e",
    "scrolled": true
   },
   "outputs": [
    {
     "name": "stdout",
     "output_type": "stream",
     "text": [
      "Epoch: 1, Train loss: 3.584, Val loss: 3.358, Epoch time = 20.777s\n",
      "Epoch: 2, Train loss: 2.735, Val loss: 3.281, Epoch time = 21.034s\n",
      "Epoch: 3, Train loss: 2.578, Val loss: 3.244, Epoch time = 20.815s\n",
      "Epoch: 4, Train loss: 2.450, Val loss: 2.935, Epoch time = 20.791s\n",
      "Epoch: 5, Train loss: 2.284, Val loss: 2.853, Epoch time = 20.909s\n",
      "Epoch: 6, Train loss: 2.136, Val loss: 2.756, Epoch time = 20.982s\n",
      "Epoch: 7, Train loss: 1.986, Val loss: 2.710, Epoch time = 21.009s\n",
      "Epoch: 8, Train loss: 1.893, Val loss: 2.621, Epoch time = 20.950s\n",
      "Epoch: 9, Train loss: 1.796, Val loss: 2.594, Epoch time = 20.832s\n",
      "Epoch: 10, Train loss: 1.711, Val loss: 2.698, Epoch time = 20.854s\n"
     ]
    }
   ],
   "source": [
    "def train_epoch(model, optimizer):\n",
    "    model.train()\n",
    "    losses = 0\n",
    "    \n",
    "    train_iter = Multi30k(split='train', language_pair=(SRC_LANGUAGE, TGT_LANGUAGE))\n",
    "    train_dataloader = DataLoader(train_iter, batch_size=BATCH_SIZE, collate_fn=collate_fn)\n",
    "    \n",
    "    for src, tgt in train_dataloader:\n",
    "        src = src.to(device)\n",
    "        tgt = tgt.to(device)\n",
    "\n",
    "        tgt_input = tgt[:, :-1]\n",
    "\n",
    "        src_mask, tgt_mask = create_mask(src, tgt_input)\n",
    "        src_mask = src_mask.to(device)\n",
    "        tgt_mask = tgt_mask.to(device)\n",
    "\n",
    "        logits = model(src, tgt_input, src_mask, tgt_mask)\n",
    "\n",
    "        optimizer.zero_grad()\n",
    "\n",
    "        tgt_out = tgt[:, 1:]\n",
    "        loss = loss_fn(logits.reshape(-1, logits.shape[-1]), tgt_out.reshape(-1))\n",
    "        loss.backward()\n",
    "\n",
    "        optimizer.step()\n",
    "        losses += loss.item()\n",
    "\n",
    "    return losses / len(list(train_dataloader))\n",
    "\n",
    "\n",
    "def evaluate(model):\n",
    "    model.eval()\n",
    "    losses = 0\n",
    "\n",
    "    val_iter = Multi30k(split='valid', language_pair=(SRC_LANGUAGE, TGT_LANGUAGE))\n",
    "    val_dataloader = DataLoader(val_iter, batch_size=BATCH_SIZE, collate_fn=collate_fn)\n",
    "\n",
    "    for src, tgt in val_dataloader:\n",
    "        src = src.to(device)\n",
    "        tgt = tgt.to(device)\n",
    "\n",
    "        tgt_input = tgt[:, :-1]\n",
    "\n",
    "        src_mask, tgt_mask = create_mask(src, tgt_input)\n",
    "\n",
    "        logits = model(src, tgt_input, src_mask, tgt_mask)\n",
    "        \n",
    "        tgt_out = tgt[:, 1:]\n",
    "        loss = loss_fn(logits.reshape(-1, logits.shape[-1]), tgt_out.reshape(-1))\n",
    "        losses += loss.item()\n",
    "\n",
    "    return losses / len(list(val_dataloader))\n",
    "\n",
    "from timeit import default_timer as timer\n",
    "NUM_EPOCHS = 10\n",
    "\n",
    "# You should be able to get train loss around 1.5 and val loss around 2.2\n",
    "for epoch in range(1, NUM_EPOCHS+1):\n",
    "    start_time = timer()\n",
    "    train_loss = train_epoch(transformer, optimizer)\n",
    "    end_time = timer()\n",
    "    val_loss = evaluate(transformer)\n",
    "    print((f\"Epoch: {epoch}, Train loss: {train_loss:.3f}, Val loss: {val_loss:.3f}, \"f\"Epoch time = {(end_time - start_time):.3f}s\"))"
   ]
  },
  {
   "cell_type": "code",
   "execution_count": null,
   "id": "3660291b",
   "metadata": {
    "id": "3660291b"
   },
   "outputs": [],
   "source": []
  },
  {
   "cell_type": "code",
   "execution_count": null,
   "id": "753fe06b",
   "metadata": {},
   "outputs": [],
   "source": []
  }
 ],
 "metadata": {
  "accelerator": "GPU",
  "colab": {
   "provenance": []
  },
  "gpuClass": "standard",
  "kernelspec": {
   "display_name": "Python 3 (ipykernel)",
   "language": "python",
   "name": "python3"
  },
  "language_info": {
   "codemirror_mode": {
    "name": "ipython",
    "version": 3
   },
   "file_extension": ".py",
   "mimetype": "text/x-python",
   "name": "python",
   "nbconvert_exporter": "python",
   "pygments_lexer": "ipython3",
   "version": "3.9.16"
  },
  "toc-showcode": false
 },
 "nbformat": 4,
 "nbformat_minor": 5
}
